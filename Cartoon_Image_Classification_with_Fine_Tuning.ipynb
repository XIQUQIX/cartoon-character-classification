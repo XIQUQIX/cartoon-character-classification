{
  "cells": [
    {
      "cell_type": "markdown",
      "metadata": {
        "id": "gZKeVaAUWfIV"
      },
      "source": [
        "# DATA Club - Cartoon Image Classification Project with Fine Tuning\n",
        "#### **Group members: Colin Chu, Le Fan Fang, Yuandi Tang, Rongjia Sun, Andre Barle**\n",
        "\n",
        "This project will focus on image classification using machine learning and computer vision techniques. Specifically, it will involve developing a classifier to identify characters from the “Tom and Jerry” cartoon series. The dataset includes images of Tom, Jerry, and other characters, providing an opportunity to explore CNNs (Convolutional Neural Networks) and advanced image processing methods.\n",
        "\n",
        "The objective of this project is to build a robust image classification model that can accurately identify characters from “Tom and Jerry” images. This will be an excellent use case for convolutional neural networks (CNNs), which are highly effective in image recognition tasks. The model’s performance will be evaluated based on its accuracy, precision, and ability to generalize across unseen test images.\n",
        "\n"
      ]
    },
    {
      "cell_type": "markdown",
      "metadata": {
        "id": "_-KBk2WKbXOs"
      },
      "source": [
        "### Preprocessing\n",
        "In this stage we will import the data, perform data exploration and transformation, then ensure the data is ready to use for CNN and FCNN."
      ]
    },
    {
      "cell_type": "code",
      "execution_count": null,
      "metadata": {
        "id": "7ByO4PG2jxF0"
      },
      "outputs": [],
      "source": [
        "# importing dependencies\n",
        "import os\n",
        "import numpy as np\n",
        "import pandas as pd\n",
        "import seaborn as sns\n",
        "import matplotlib.pyplot as plt\n",
        "\n",
        "from keras.preprocessing.image import load_img, img_to_array\n",
        "from keras.utils import to_categorical\n",
        "\n",
        "from sklearn.model_selection import train_test_split\n",
        "from sklearn.ensemble import RandomForestClassifier\n",
        "from sklearn.metrics import accuracy_score\n",
        "from sklearn.neighbors import KNeighborsClassifier\n",
        "\n",
        "import tensorflow as tf\n",
        "import tensorflow.keras.optimizers as optim\n",
        "from tensorflow.keras.preprocessing.image import load_img, img_to_array, ImageDataGenerator\n",
        "from tensorflow.keras.utils import to_categorical\n",
        "from tensorflow.keras import layers, models\n",
        "from tensorflow.keras.models import Sequential, load_model\n",
        "from tensorflow.keras.layers import Conv2D, MaxPooling2D, Flatten, Dense\n",
        "from tensorflow.keras.optimizers import Adam"
      ]
    },
    {
      "cell_type": "code",
      "execution_count": null,
      "metadata": {
        "colab": {
          "base_uri": "https://localhost:8080/"
        },
        "id": "qXOp9uuybmIy",
        "outputId": "413b110d-1d1b-4643-aae4-8df8fb3eb870"
      },
      "outputs": [
        {
          "output_type": "stream",
          "name": "stdout",
          "text": [
            "Mounted at /content/drive\n"
          ]
        }
      ],
      "source": [
        "from google.colab import drive\n",
        "drive.mount('/content/drive')"
      ]
    },
    {
      "cell_type": "code",
      "execution_count": null,
      "metadata": {
        "id": "jnpzRq4sbx2J"
      },
      "outputs": [],
      "source": [
        "df = pd.read_csv('/content/drive/MyDrive/DATA Club - Cartoon Classification Project/ground_truth.csv')"
      ]
    },
    {
      "cell_type": "code",
      "execution_count": null,
      "metadata": {
        "colab": {
          "base_uri": "https://localhost:8080/",
          "height": 677
        },
        "id": "hu2jwehMcBEO",
        "outputId": "a5c333ea-2c0d-493c-dec1-67ca03006d5e"
      },
      "outputs": [
        {
          "output_type": "execute_result",
          "data": {
            "text/plain": [
              "       filename  tom  jerry\n",
              "0    frame0.jpg    0      0\n",
              "1    frame1.jpg    0      0\n",
              "2    frame2.jpg    0      0\n",
              "3    frame3.jpg    0      0\n",
              "4    frame4.jpg    0      0\n",
              "5    frame5.jpg    0      0\n",
              "6    frame6.jpg    0      0\n",
              "7    frame7.jpg    0      0\n",
              "8    frame8.jpg    0      0\n",
              "9    frame9.jpg    0      0\n",
              "10  frame10.jpg    0      0\n",
              "11  frame11.jpg    0      0\n",
              "12  frame12.jpg    0      1\n",
              "13  frame13.jpg    0      0\n",
              "14  frame14.jpg    1      0\n",
              "15  frame15.jpg    1      0\n",
              "16  frame16.jpg    0      0\n",
              "17  frame17.jpg    0      1\n",
              "18  frame18.jpg    1      1\n",
              "19  frame19.jpg    0      1"
            ],
            "text/html": [
              "\n",
              "  <div id=\"df-ad7b1b59-b74a-4a29-9420-63f2ff6b751a\" class=\"colab-df-container\">\n",
              "    <div>\n",
              "<style scoped>\n",
              "    .dataframe tbody tr th:only-of-type {\n",
              "        vertical-align: middle;\n",
              "    }\n",
              "\n",
              "    .dataframe tbody tr th {\n",
              "        vertical-align: top;\n",
              "    }\n",
              "\n",
              "    .dataframe thead th {\n",
              "        text-align: right;\n",
              "    }\n",
              "</style>\n",
              "<table border=\"1\" class=\"dataframe\">\n",
              "  <thead>\n",
              "    <tr style=\"text-align: right;\">\n",
              "      <th></th>\n",
              "      <th>filename</th>\n",
              "      <th>tom</th>\n",
              "      <th>jerry</th>\n",
              "    </tr>\n",
              "  </thead>\n",
              "  <tbody>\n",
              "    <tr>\n",
              "      <th>0</th>\n",
              "      <td>frame0.jpg</td>\n",
              "      <td>0</td>\n",
              "      <td>0</td>\n",
              "    </tr>\n",
              "    <tr>\n",
              "      <th>1</th>\n",
              "      <td>frame1.jpg</td>\n",
              "      <td>0</td>\n",
              "      <td>0</td>\n",
              "    </tr>\n",
              "    <tr>\n",
              "      <th>2</th>\n",
              "      <td>frame2.jpg</td>\n",
              "      <td>0</td>\n",
              "      <td>0</td>\n",
              "    </tr>\n",
              "    <tr>\n",
              "      <th>3</th>\n",
              "      <td>frame3.jpg</td>\n",
              "      <td>0</td>\n",
              "      <td>0</td>\n",
              "    </tr>\n",
              "    <tr>\n",
              "      <th>4</th>\n",
              "      <td>frame4.jpg</td>\n",
              "      <td>0</td>\n",
              "      <td>0</td>\n",
              "    </tr>\n",
              "    <tr>\n",
              "      <th>5</th>\n",
              "      <td>frame5.jpg</td>\n",
              "      <td>0</td>\n",
              "      <td>0</td>\n",
              "    </tr>\n",
              "    <tr>\n",
              "      <th>6</th>\n",
              "      <td>frame6.jpg</td>\n",
              "      <td>0</td>\n",
              "      <td>0</td>\n",
              "    </tr>\n",
              "    <tr>\n",
              "      <th>7</th>\n",
              "      <td>frame7.jpg</td>\n",
              "      <td>0</td>\n",
              "      <td>0</td>\n",
              "    </tr>\n",
              "    <tr>\n",
              "      <th>8</th>\n",
              "      <td>frame8.jpg</td>\n",
              "      <td>0</td>\n",
              "      <td>0</td>\n",
              "    </tr>\n",
              "    <tr>\n",
              "      <th>9</th>\n",
              "      <td>frame9.jpg</td>\n",
              "      <td>0</td>\n",
              "      <td>0</td>\n",
              "    </tr>\n",
              "    <tr>\n",
              "      <th>10</th>\n",
              "      <td>frame10.jpg</td>\n",
              "      <td>0</td>\n",
              "      <td>0</td>\n",
              "    </tr>\n",
              "    <tr>\n",
              "      <th>11</th>\n",
              "      <td>frame11.jpg</td>\n",
              "      <td>0</td>\n",
              "      <td>0</td>\n",
              "    </tr>\n",
              "    <tr>\n",
              "      <th>12</th>\n",
              "      <td>frame12.jpg</td>\n",
              "      <td>0</td>\n",
              "      <td>1</td>\n",
              "    </tr>\n",
              "    <tr>\n",
              "      <th>13</th>\n",
              "      <td>frame13.jpg</td>\n",
              "      <td>0</td>\n",
              "      <td>0</td>\n",
              "    </tr>\n",
              "    <tr>\n",
              "      <th>14</th>\n",
              "      <td>frame14.jpg</td>\n",
              "      <td>1</td>\n",
              "      <td>0</td>\n",
              "    </tr>\n",
              "    <tr>\n",
              "      <th>15</th>\n",
              "      <td>frame15.jpg</td>\n",
              "      <td>1</td>\n",
              "      <td>0</td>\n",
              "    </tr>\n",
              "    <tr>\n",
              "      <th>16</th>\n",
              "      <td>frame16.jpg</td>\n",
              "      <td>0</td>\n",
              "      <td>0</td>\n",
              "    </tr>\n",
              "    <tr>\n",
              "      <th>17</th>\n",
              "      <td>frame17.jpg</td>\n",
              "      <td>0</td>\n",
              "      <td>1</td>\n",
              "    </tr>\n",
              "    <tr>\n",
              "      <th>18</th>\n",
              "      <td>frame18.jpg</td>\n",
              "      <td>1</td>\n",
              "      <td>1</td>\n",
              "    </tr>\n",
              "    <tr>\n",
              "      <th>19</th>\n",
              "      <td>frame19.jpg</td>\n",
              "      <td>0</td>\n",
              "      <td>1</td>\n",
              "    </tr>\n",
              "  </tbody>\n",
              "</table>\n",
              "</div>\n",
              "    <div class=\"colab-df-buttons\">\n",
              "\n",
              "  <div class=\"colab-df-container\">\n",
              "    <button class=\"colab-df-convert\" onclick=\"convertToInteractive('df-ad7b1b59-b74a-4a29-9420-63f2ff6b751a')\"\n",
              "            title=\"Convert this dataframe to an interactive table.\"\n",
              "            style=\"display:none;\">\n",
              "\n",
              "  <svg xmlns=\"http://www.w3.org/2000/svg\" height=\"24px\" viewBox=\"0 -960 960 960\">\n",
              "    <path d=\"M120-120v-720h720v720H120Zm60-500h600v-160H180v160Zm220 220h160v-160H400v160Zm0 220h160v-160H400v160ZM180-400h160v-160H180v160Zm440 0h160v-160H620v160ZM180-180h160v-160H180v160Zm440 0h160v-160H620v160Z\"/>\n",
              "  </svg>\n",
              "    </button>\n",
              "\n",
              "  <style>\n",
              "    .colab-df-container {\n",
              "      display:flex;\n",
              "      gap: 12px;\n",
              "    }\n",
              "\n",
              "    .colab-df-convert {\n",
              "      background-color: #E8F0FE;\n",
              "      border: none;\n",
              "      border-radius: 50%;\n",
              "      cursor: pointer;\n",
              "      display: none;\n",
              "      fill: #1967D2;\n",
              "      height: 32px;\n",
              "      padding: 0 0 0 0;\n",
              "      width: 32px;\n",
              "    }\n",
              "\n",
              "    .colab-df-convert:hover {\n",
              "      background-color: #E2EBFA;\n",
              "      box-shadow: 0px 1px 2px rgba(60, 64, 67, 0.3), 0px 1px 3px 1px rgba(60, 64, 67, 0.15);\n",
              "      fill: #174EA6;\n",
              "    }\n",
              "\n",
              "    .colab-df-buttons div {\n",
              "      margin-bottom: 4px;\n",
              "    }\n",
              "\n",
              "    [theme=dark] .colab-df-convert {\n",
              "      background-color: #3B4455;\n",
              "      fill: #D2E3FC;\n",
              "    }\n",
              "\n",
              "    [theme=dark] .colab-df-convert:hover {\n",
              "      background-color: #434B5C;\n",
              "      box-shadow: 0px 1px 3px 1px rgba(0, 0, 0, 0.15);\n",
              "      filter: drop-shadow(0px 1px 2px rgba(0, 0, 0, 0.3));\n",
              "      fill: #FFFFFF;\n",
              "    }\n",
              "  </style>\n",
              "\n",
              "    <script>\n",
              "      const buttonEl =\n",
              "        document.querySelector('#df-ad7b1b59-b74a-4a29-9420-63f2ff6b751a button.colab-df-convert');\n",
              "      buttonEl.style.display =\n",
              "        google.colab.kernel.accessAllowed ? 'block' : 'none';\n",
              "\n",
              "      async function convertToInteractive(key) {\n",
              "        const element = document.querySelector('#df-ad7b1b59-b74a-4a29-9420-63f2ff6b751a');\n",
              "        const dataTable =\n",
              "          await google.colab.kernel.invokeFunction('convertToInteractive',\n",
              "                                                    [key], {});\n",
              "        if (!dataTable) return;\n",
              "\n",
              "        const docLinkHtml = 'Like what you see? Visit the ' +\n",
              "          '<a target=\"_blank\" href=https://colab.research.google.com/notebooks/data_table.ipynb>data table notebook</a>'\n",
              "          + ' to learn more about interactive tables.';\n",
              "        element.innerHTML = '';\n",
              "        dataTable['output_type'] = 'display_data';\n",
              "        await google.colab.output.renderOutput(dataTable, element);\n",
              "        const docLink = document.createElement('div');\n",
              "        docLink.innerHTML = docLinkHtml;\n",
              "        element.appendChild(docLink);\n",
              "      }\n",
              "    </script>\n",
              "  </div>\n",
              "\n",
              "\n",
              "<div id=\"df-eca76631-d61d-402f-9327-a37d5a652aba\">\n",
              "  <button class=\"colab-df-quickchart\" onclick=\"quickchart('df-eca76631-d61d-402f-9327-a37d5a652aba')\"\n",
              "            title=\"Suggest charts\"\n",
              "            style=\"display:none;\">\n",
              "\n",
              "<svg xmlns=\"http://www.w3.org/2000/svg\" height=\"24px\"viewBox=\"0 0 24 24\"\n",
              "     width=\"24px\">\n",
              "    <g>\n",
              "        <path d=\"M19 3H5c-1.1 0-2 .9-2 2v14c0 1.1.9 2 2 2h14c1.1 0 2-.9 2-2V5c0-1.1-.9-2-2-2zM9 17H7v-7h2v7zm4 0h-2V7h2v10zm4 0h-2v-4h2v4z\"/>\n",
              "    </g>\n",
              "</svg>\n",
              "  </button>\n",
              "\n",
              "<style>\n",
              "  .colab-df-quickchart {\n",
              "      --bg-color: #E8F0FE;\n",
              "      --fill-color: #1967D2;\n",
              "      --hover-bg-color: #E2EBFA;\n",
              "      --hover-fill-color: #174EA6;\n",
              "      --disabled-fill-color: #AAA;\n",
              "      --disabled-bg-color: #DDD;\n",
              "  }\n",
              "\n",
              "  [theme=dark] .colab-df-quickchart {\n",
              "      --bg-color: #3B4455;\n",
              "      --fill-color: #D2E3FC;\n",
              "      --hover-bg-color: #434B5C;\n",
              "      --hover-fill-color: #FFFFFF;\n",
              "      --disabled-bg-color: #3B4455;\n",
              "      --disabled-fill-color: #666;\n",
              "  }\n",
              "\n",
              "  .colab-df-quickchart {\n",
              "    background-color: var(--bg-color);\n",
              "    border: none;\n",
              "    border-radius: 50%;\n",
              "    cursor: pointer;\n",
              "    display: none;\n",
              "    fill: var(--fill-color);\n",
              "    height: 32px;\n",
              "    padding: 0;\n",
              "    width: 32px;\n",
              "  }\n",
              "\n",
              "  .colab-df-quickchart:hover {\n",
              "    background-color: var(--hover-bg-color);\n",
              "    box-shadow: 0 1px 2px rgba(60, 64, 67, 0.3), 0 1px 3px 1px rgba(60, 64, 67, 0.15);\n",
              "    fill: var(--button-hover-fill-color);\n",
              "  }\n",
              "\n",
              "  .colab-df-quickchart-complete:disabled,\n",
              "  .colab-df-quickchart-complete:disabled:hover {\n",
              "    background-color: var(--disabled-bg-color);\n",
              "    fill: var(--disabled-fill-color);\n",
              "    box-shadow: none;\n",
              "  }\n",
              "\n",
              "  .colab-df-spinner {\n",
              "    border: 2px solid var(--fill-color);\n",
              "    border-color: transparent;\n",
              "    border-bottom-color: var(--fill-color);\n",
              "    animation:\n",
              "      spin 1s steps(1) infinite;\n",
              "  }\n",
              "\n",
              "  @keyframes spin {\n",
              "    0% {\n",
              "      border-color: transparent;\n",
              "      border-bottom-color: var(--fill-color);\n",
              "      border-left-color: var(--fill-color);\n",
              "    }\n",
              "    20% {\n",
              "      border-color: transparent;\n",
              "      border-left-color: var(--fill-color);\n",
              "      border-top-color: var(--fill-color);\n",
              "    }\n",
              "    30% {\n",
              "      border-color: transparent;\n",
              "      border-left-color: var(--fill-color);\n",
              "      border-top-color: var(--fill-color);\n",
              "      border-right-color: var(--fill-color);\n",
              "    }\n",
              "    40% {\n",
              "      border-color: transparent;\n",
              "      border-right-color: var(--fill-color);\n",
              "      border-top-color: var(--fill-color);\n",
              "    }\n",
              "    60% {\n",
              "      border-color: transparent;\n",
              "      border-right-color: var(--fill-color);\n",
              "    }\n",
              "    80% {\n",
              "      border-color: transparent;\n",
              "      border-right-color: var(--fill-color);\n",
              "      border-bottom-color: var(--fill-color);\n",
              "    }\n",
              "    90% {\n",
              "      border-color: transparent;\n",
              "      border-bottom-color: var(--fill-color);\n",
              "    }\n",
              "  }\n",
              "</style>\n",
              "\n",
              "  <script>\n",
              "    async function quickchart(key) {\n",
              "      const quickchartButtonEl =\n",
              "        document.querySelector('#' + key + ' button');\n",
              "      quickchartButtonEl.disabled = true;  // To prevent multiple clicks.\n",
              "      quickchartButtonEl.classList.add('colab-df-spinner');\n",
              "      try {\n",
              "        const charts = await google.colab.kernel.invokeFunction(\n",
              "            'suggestCharts', [key], {});\n",
              "      } catch (error) {\n",
              "        console.error('Error during call to suggestCharts:', error);\n",
              "      }\n",
              "      quickchartButtonEl.classList.remove('colab-df-spinner');\n",
              "      quickchartButtonEl.classList.add('colab-df-quickchart-complete');\n",
              "    }\n",
              "    (() => {\n",
              "      let quickchartButtonEl =\n",
              "        document.querySelector('#df-eca76631-d61d-402f-9327-a37d5a652aba button');\n",
              "      quickchartButtonEl.style.display =\n",
              "        google.colab.kernel.accessAllowed ? 'block' : 'none';\n",
              "    })();\n",
              "  </script>\n",
              "</div>\n",
              "\n",
              "    </div>\n",
              "  </div>\n"
            ],
            "application/vnd.google.colaboratory.intrinsic+json": {
              "type": "dataframe",
              "variable_name": "df",
              "summary": "{\n  \"name\": \"df\",\n  \"rows\": 5478,\n  \"fields\": [\n    {\n      \"column\": \"filename\",\n      \"properties\": {\n        \"dtype\": \"string\",\n        \"num_unique_values\": 5478,\n        \"samples\": [\n          \"frame3164.jpg\",\n          \"frame5148.jpg\",\n          \"frame8.jpg\"\n        ],\n        \"semantic_type\": \"\",\n        \"description\": \"\"\n      }\n    },\n    {\n      \"column\": \"tom\",\n      \"properties\": {\n        \"dtype\": \"number\",\n        \"std\": 0,\n        \"min\": 0,\n        \"max\": 1,\n        \"num_unique_values\": 2,\n        \"samples\": [\n          1,\n          0\n        ],\n        \"semantic_type\": \"\",\n        \"description\": \"\"\n      }\n    },\n    {\n      \"column\": \"jerry\",\n      \"properties\": {\n        \"dtype\": \"number\",\n        \"std\": 0,\n        \"min\": 0,\n        \"max\": 1,\n        \"num_unique_values\": 2,\n        \"samples\": [\n          1,\n          0\n        ],\n        \"semantic_type\": \"\",\n        \"description\": \"\"\n      }\n    }\n  ]\n}"
            }
          },
          "metadata": {},
          "execution_count": 6
        }
      ],
      "source": [
        "df.head(20)"
      ]
    },
    {
      "cell_type": "code",
      "execution_count": null,
      "metadata": {
        "colab": {
          "base_uri": "https://localhost:8080/"
        },
        "id": "PO6W4VY7cGPW",
        "outputId": "bc8853de-ffea-417e-b044-a93532b447b7"
      },
      "outputs": [
        {
          "output_type": "execute_result",
          "data": {
            "text/plain": [
              "(5478, 3)"
            ]
          },
          "metadata": {},
          "execution_count": 7
        }
      ],
      "source": [
        "df.shape"
      ]
    },
    {
      "cell_type": "code",
      "execution_count": null,
      "metadata": {
        "id": "F0pv_j_QcMPw"
      },
      "outputs": [],
      "source": [
        "df = df.drop_duplicates() # drop duplicates"
      ]
    },
    {
      "cell_type": "code",
      "execution_count": null,
      "metadata": {
        "colab": {
          "base_uri": "https://localhost:8080/"
        },
        "id": "TubKxijYcU4N",
        "outputId": "00050a20-dd2e-4f18-f869-9193e8e4f635"
      },
      "outputs": [
        {
          "output_type": "stream",
          "name": "stdout",
          "text": [
            "tom\n",
            "0    2768\n",
            "1    2710\n",
            "Name: count, dtype: int64\n",
            "jerry\n",
            "0    3458\n",
            "1    2020\n",
            "Name: count, dtype: int64\n",
            "filename    0\n",
            "tom         0\n",
            "jerry       0\n",
            "dtype: int64\n"
          ]
        }
      ],
      "source": [
        "print(df.tom.value_counts()) # show values for tom\n",
        "print(df.jerry.value_counts()) # show values for jerry\n",
        "print(df.isnull().sum()) # show null values"
      ]
    },
    {
      "cell_type": "code",
      "execution_count": null,
      "metadata": {
        "id": "KFRjHX8HedeN"
      },
      "outputs": [],
      "source": [
        "df['tom_jerry_0'] = [1 if i == 0 and j == 0 else 0 for i, j in zip(df['tom'], df['jerry'])]\n",
        "df['tom_jerry_1'] = [1 if i == 1 and j == 1 else 0 for i, j in zip(df['tom'], df['jerry'])]"
      ]
    },
    {
      "cell_type": "code",
      "execution_count": null,
      "metadata": {
        "id": "0fFAjysng0YG"
      },
      "outputs": [],
      "source": [
        "df['tom_placeholder'] = [1 if i == 1 and j == 0 else 0 for i, j in zip(df['tom'], df['jerry'])]\n",
        "df['jerry'] = [1 if i == 0 and j == 1 else 0 for i, j in zip(df['tom'], df['jerry'])]\n",
        "df['tom'] = df['tom_placeholder']\n",
        "df = df.drop(columns='tom_placeholder')"
      ]
    },
    {
      "cell_type": "code",
      "execution_count": null,
      "metadata": {
        "colab": {
          "base_uri": "https://localhost:8080/",
          "height": 677
        },
        "id": "vRGSJoDrgktG",
        "outputId": "0112eeac-cee2-4bb1-f245-730440c18539"
      },
      "outputs": [
        {
          "output_type": "execute_result",
          "data": {
            "text/plain": [
              "       filename  tom  jerry  tom_jerry_0  tom_jerry_1\n",
              "0    frame0.jpg    0      0            1            0\n",
              "1    frame1.jpg    0      0            1            0\n",
              "2    frame2.jpg    0      0            1            0\n",
              "3    frame3.jpg    0      0            1            0\n",
              "4    frame4.jpg    0      0            1            0\n",
              "5    frame5.jpg    0      0            1            0\n",
              "6    frame6.jpg    0      0            1            0\n",
              "7    frame7.jpg    0      0            1            0\n",
              "8    frame8.jpg    0      0            1            0\n",
              "9    frame9.jpg    0      0            1            0\n",
              "10  frame10.jpg    0      0            1            0\n",
              "11  frame11.jpg    0      0            1            0\n",
              "12  frame12.jpg    0      1            0            0\n",
              "13  frame13.jpg    0      0            1            0\n",
              "14  frame14.jpg    1      0            0            0\n",
              "15  frame15.jpg    1      0            0            0\n",
              "16  frame16.jpg    0      0            1            0\n",
              "17  frame17.jpg    0      1            0            0\n",
              "18  frame18.jpg    0      0            0            1\n",
              "19  frame19.jpg    0      1            0            0"
            ],
            "text/html": [
              "\n",
              "  <div id=\"df-56819a11-a73e-4469-807d-89ce50a824c8\" class=\"colab-df-container\">\n",
              "    <div>\n",
              "<style scoped>\n",
              "    .dataframe tbody tr th:only-of-type {\n",
              "        vertical-align: middle;\n",
              "    }\n",
              "\n",
              "    .dataframe tbody tr th {\n",
              "        vertical-align: top;\n",
              "    }\n",
              "\n",
              "    .dataframe thead th {\n",
              "        text-align: right;\n",
              "    }\n",
              "</style>\n",
              "<table border=\"1\" class=\"dataframe\">\n",
              "  <thead>\n",
              "    <tr style=\"text-align: right;\">\n",
              "      <th></th>\n",
              "      <th>filename</th>\n",
              "      <th>tom</th>\n",
              "      <th>jerry</th>\n",
              "      <th>tom_jerry_0</th>\n",
              "      <th>tom_jerry_1</th>\n",
              "    </tr>\n",
              "  </thead>\n",
              "  <tbody>\n",
              "    <tr>\n",
              "      <th>0</th>\n",
              "      <td>frame0.jpg</td>\n",
              "      <td>0</td>\n",
              "      <td>0</td>\n",
              "      <td>1</td>\n",
              "      <td>0</td>\n",
              "    </tr>\n",
              "    <tr>\n",
              "      <th>1</th>\n",
              "      <td>frame1.jpg</td>\n",
              "      <td>0</td>\n",
              "      <td>0</td>\n",
              "      <td>1</td>\n",
              "      <td>0</td>\n",
              "    </tr>\n",
              "    <tr>\n",
              "      <th>2</th>\n",
              "      <td>frame2.jpg</td>\n",
              "      <td>0</td>\n",
              "      <td>0</td>\n",
              "      <td>1</td>\n",
              "      <td>0</td>\n",
              "    </tr>\n",
              "    <tr>\n",
              "      <th>3</th>\n",
              "      <td>frame3.jpg</td>\n",
              "      <td>0</td>\n",
              "      <td>0</td>\n",
              "      <td>1</td>\n",
              "      <td>0</td>\n",
              "    </tr>\n",
              "    <tr>\n",
              "      <th>4</th>\n",
              "      <td>frame4.jpg</td>\n",
              "      <td>0</td>\n",
              "      <td>0</td>\n",
              "      <td>1</td>\n",
              "      <td>0</td>\n",
              "    </tr>\n",
              "    <tr>\n",
              "      <th>5</th>\n",
              "      <td>frame5.jpg</td>\n",
              "      <td>0</td>\n",
              "      <td>0</td>\n",
              "      <td>1</td>\n",
              "      <td>0</td>\n",
              "    </tr>\n",
              "    <tr>\n",
              "      <th>6</th>\n",
              "      <td>frame6.jpg</td>\n",
              "      <td>0</td>\n",
              "      <td>0</td>\n",
              "      <td>1</td>\n",
              "      <td>0</td>\n",
              "    </tr>\n",
              "    <tr>\n",
              "      <th>7</th>\n",
              "      <td>frame7.jpg</td>\n",
              "      <td>0</td>\n",
              "      <td>0</td>\n",
              "      <td>1</td>\n",
              "      <td>0</td>\n",
              "    </tr>\n",
              "    <tr>\n",
              "      <th>8</th>\n",
              "      <td>frame8.jpg</td>\n",
              "      <td>0</td>\n",
              "      <td>0</td>\n",
              "      <td>1</td>\n",
              "      <td>0</td>\n",
              "    </tr>\n",
              "    <tr>\n",
              "      <th>9</th>\n",
              "      <td>frame9.jpg</td>\n",
              "      <td>0</td>\n",
              "      <td>0</td>\n",
              "      <td>1</td>\n",
              "      <td>0</td>\n",
              "    </tr>\n",
              "    <tr>\n",
              "      <th>10</th>\n",
              "      <td>frame10.jpg</td>\n",
              "      <td>0</td>\n",
              "      <td>0</td>\n",
              "      <td>1</td>\n",
              "      <td>0</td>\n",
              "    </tr>\n",
              "    <tr>\n",
              "      <th>11</th>\n",
              "      <td>frame11.jpg</td>\n",
              "      <td>0</td>\n",
              "      <td>0</td>\n",
              "      <td>1</td>\n",
              "      <td>0</td>\n",
              "    </tr>\n",
              "    <tr>\n",
              "      <th>12</th>\n",
              "      <td>frame12.jpg</td>\n",
              "      <td>0</td>\n",
              "      <td>1</td>\n",
              "      <td>0</td>\n",
              "      <td>0</td>\n",
              "    </tr>\n",
              "    <tr>\n",
              "      <th>13</th>\n",
              "      <td>frame13.jpg</td>\n",
              "      <td>0</td>\n",
              "      <td>0</td>\n",
              "      <td>1</td>\n",
              "      <td>0</td>\n",
              "    </tr>\n",
              "    <tr>\n",
              "      <th>14</th>\n",
              "      <td>frame14.jpg</td>\n",
              "      <td>1</td>\n",
              "      <td>0</td>\n",
              "      <td>0</td>\n",
              "      <td>0</td>\n",
              "    </tr>\n",
              "    <tr>\n",
              "      <th>15</th>\n",
              "      <td>frame15.jpg</td>\n",
              "      <td>1</td>\n",
              "      <td>0</td>\n",
              "      <td>0</td>\n",
              "      <td>0</td>\n",
              "    </tr>\n",
              "    <tr>\n",
              "      <th>16</th>\n",
              "      <td>frame16.jpg</td>\n",
              "      <td>0</td>\n",
              "      <td>0</td>\n",
              "      <td>1</td>\n",
              "      <td>0</td>\n",
              "    </tr>\n",
              "    <tr>\n",
              "      <th>17</th>\n",
              "      <td>frame17.jpg</td>\n",
              "      <td>0</td>\n",
              "      <td>1</td>\n",
              "      <td>0</td>\n",
              "      <td>0</td>\n",
              "    </tr>\n",
              "    <tr>\n",
              "      <th>18</th>\n",
              "      <td>frame18.jpg</td>\n",
              "      <td>0</td>\n",
              "      <td>0</td>\n",
              "      <td>0</td>\n",
              "      <td>1</td>\n",
              "    </tr>\n",
              "    <tr>\n",
              "      <th>19</th>\n",
              "      <td>frame19.jpg</td>\n",
              "      <td>0</td>\n",
              "      <td>1</td>\n",
              "      <td>0</td>\n",
              "      <td>0</td>\n",
              "    </tr>\n",
              "  </tbody>\n",
              "</table>\n",
              "</div>\n",
              "    <div class=\"colab-df-buttons\">\n",
              "\n",
              "  <div class=\"colab-df-container\">\n",
              "    <button class=\"colab-df-convert\" onclick=\"convertToInteractive('df-56819a11-a73e-4469-807d-89ce50a824c8')\"\n",
              "            title=\"Convert this dataframe to an interactive table.\"\n",
              "            style=\"display:none;\">\n",
              "\n",
              "  <svg xmlns=\"http://www.w3.org/2000/svg\" height=\"24px\" viewBox=\"0 -960 960 960\">\n",
              "    <path d=\"M120-120v-720h720v720H120Zm60-500h600v-160H180v160Zm220 220h160v-160H400v160Zm0 220h160v-160H400v160ZM180-400h160v-160H180v160Zm440 0h160v-160H620v160ZM180-180h160v-160H180v160Zm440 0h160v-160H620v160Z\"/>\n",
              "  </svg>\n",
              "    </button>\n",
              "\n",
              "  <style>\n",
              "    .colab-df-container {\n",
              "      display:flex;\n",
              "      gap: 12px;\n",
              "    }\n",
              "\n",
              "    .colab-df-convert {\n",
              "      background-color: #E8F0FE;\n",
              "      border: none;\n",
              "      border-radius: 50%;\n",
              "      cursor: pointer;\n",
              "      display: none;\n",
              "      fill: #1967D2;\n",
              "      height: 32px;\n",
              "      padding: 0 0 0 0;\n",
              "      width: 32px;\n",
              "    }\n",
              "\n",
              "    .colab-df-convert:hover {\n",
              "      background-color: #E2EBFA;\n",
              "      box-shadow: 0px 1px 2px rgba(60, 64, 67, 0.3), 0px 1px 3px 1px rgba(60, 64, 67, 0.15);\n",
              "      fill: #174EA6;\n",
              "    }\n",
              "\n",
              "    .colab-df-buttons div {\n",
              "      margin-bottom: 4px;\n",
              "    }\n",
              "\n",
              "    [theme=dark] .colab-df-convert {\n",
              "      background-color: #3B4455;\n",
              "      fill: #D2E3FC;\n",
              "    }\n",
              "\n",
              "    [theme=dark] .colab-df-convert:hover {\n",
              "      background-color: #434B5C;\n",
              "      box-shadow: 0px 1px 3px 1px rgba(0, 0, 0, 0.15);\n",
              "      filter: drop-shadow(0px 1px 2px rgba(0, 0, 0, 0.3));\n",
              "      fill: #FFFFFF;\n",
              "    }\n",
              "  </style>\n",
              "\n",
              "    <script>\n",
              "      const buttonEl =\n",
              "        document.querySelector('#df-56819a11-a73e-4469-807d-89ce50a824c8 button.colab-df-convert');\n",
              "      buttonEl.style.display =\n",
              "        google.colab.kernel.accessAllowed ? 'block' : 'none';\n",
              "\n",
              "      async function convertToInteractive(key) {\n",
              "        const element = document.querySelector('#df-56819a11-a73e-4469-807d-89ce50a824c8');\n",
              "        const dataTable =\n",
              "          await google.colab.kernel.invokeFunction('convertToInteractive',\n",
              "                                                    [key], {});\n",
              "        if (!dataTable) return;\n",
              "\n",
              "        const docLinkHtml = 'Like what you see? Visit the ' +\n",
              "          '<a target=\"_blank\" href=https://colab.research.google.com/notebooks/data_table.ipynb>data table notebook</a>'\n",
              "          + ' to learn more about interactive tables.';\n",
              "        element.innerHTML = '';\n",
              "        dataTable['output_type'] = 'display_data';\n",
              "        await google.colab.output.renderOutput(dataTable, element);\n",
              "        const docLink = document.createElement('div');\n",
              "        docLink.innerHTML = docLinkHtml;\n",
              "        element.appendChild(docLink);\n",
              "      }\n",
              "    </script>\n",
              "  </div>\n",
              "\n",
              "\n",
              "<div id=\"df-ded3dc78-458b-487c-a232-7ff0b779fd5a\">\n",
              "  <button class=\"colab-df-quickchart\" onclick=\"quickchart('df-ded3dc78-458b-487c-a232-7ff0b779fd5a')\"\n",
              "            title=\"Suggest charts\"\n",
              "            style=\"display:none;\">\n",
              "\n",
              "<svg xmlns=\"http://www.w3.org/2000/svg\" height=\"24px\"viewBox=\"0 0 24 24\"\n",
              "     width=\"24px\">\n",
              "    <g>\n",
              "        <path d=\"M19 3H5c-1.1 0-2 .9-2 2v14c0 1.1.9 2 2 2h14c1.1 0 2-.9 2-2V5c0-1.1-.9-2-2-2zM9 17H7v-7h2v7zm4 0h-2V7h2v10zm4 0h-2v-4h2v4z\"/>\n",
              "    </g>\n",
              "</svg>\n",
              "  </button>\n",
              "\n",
              "<style>\n",
              "  .colab-df-quickchart {\n",
              "      --bg-color: #E8F0FE;\n",
              "      --fill-color: #1967D2;\n",
              "      --hover-bg-color: #E2EBFA;\n",
              "      --hover-fill-color: #174EA6;\n",
              "      --disabled-fill-color: #AAA;\n",
              "      --disabled-bg-color: #DDD;\n",
              "  }\n",
              "\n",
              "  [theme=dark] .colab-df-quickchart {\n",
              "      --bg-color: #3B4455;\n",
              "      --fill-color: #D2E3FC;\n",
              "      --hover-bg-color: #434B5C;\n",
              "      --hover-fill-color: #FFFFFF;\n",
              "      --disabled-bg-color: #3B4455;\n",
              "      --disabled-fill-color: #666;\n",
              "  }\n",
              "\n",
              "  .colab-df-quickchart {\n",
              "    background-color: var(--bg-color);\n",
              "    border: none;\n",
              "    border-radius: 50%;\n",
              "    cursor: pointer;\n",
              "    display: none;\n",
              "    fill: var(--fill-color);\n",
              "    height: 32px;\n",
              "    padding: 0;\n",
              "    width: 32px;\n",
              "  }\n",
              "\n",
              "  .colab-df-quickchart:hover {\n",
              "    background-color: var(--hover-bg-color);\n",
              "    box-shadow: 0 1px 2px rgba(60, 64, 67, 0.3), 0 1px 3px 1px rgba(60, 64, 67, 0.15);\n",
              "    fill: var(--button-hover-fill-color);\n",
              "  }\n",
              "\n",
              "  .colab-df-quickchart-complete:disabled,\n",
              "  .colab-df-quickchart-complete:disabled:hover {\n",
              "    background-color: var(--disabled-bg-color);\n",
              "    fill: var(--disabled-fill-color);\n",
              "    box-shadow: none;\n",
              "  }\n",
              "\n",
              "  .colab-df-spinner {\n",
              "    border: 2px solid var(--fill-color);\n",
              "    border-color: transparent;\n",
              "    border-bottom-color: var(--fill-color);\n",
              "    animation:\n",
              "      spin 1s steps(1) infinite;\n",
              "  }\n",
              "\n",
              "  @keyframes spin {\n",
              "    0% {\n",
              "      border-color: transparent;\n",
              "      border-bottom-color: var(--fill-color);\n",
              "      border-left-color: var(--fill-color);\n",
              "    }\n",
              "    20% {\n",
              "      border-color: transparent;\n",
              "      border-left-color: var(--fill-color);\n",
              "      border-top-color: var(--fill-color);\n",
              "    }\n",
              "    30% {\n",
              "      border-color: transparent;\n",
              "      border-left-color: var(--fill-color);\n",
              "      border-top-color: var(--fill-color);\n",
              "      border-right-color: var(--fill-color);\n",
              "    }\n",
              "    40% {\n",
              "      border-color: transparent;\n",
              "      border-right-color: var(--fill-color);\n",
              "      border-top-color: var(--fill-color);\n",
              "    }\n",
              "    60% {\n",
              "      border-color: transparent;\n",
              "      border-right-color: var(--fill-color);\n",
              "    }\n",
              "    80% {\n",
              "      border-color: transparent;\n",
              "      border-right-color: var(--fill-color);\n",
              "      border-bottom-color: var(--fill-color);\n",
              "    }\n",
              "    90% {\n",
              "      border-color: transparent;\n",
              "      border-bottom-color: var(--fill-color);\n",
              "    }\n",
              "  }\n",
              "</style>\n",
              "\n",
              "  <script>\n",
              "    async function quickchart(key) {\n",
              "      const quickchartButtonEl =\n",
              "        document.querySelector('#' + key + ' button');\n",
              "      quickchartButtonEl.disabled = true;  // To prevent multiple clicks.\n",
              "      quickchartButtonEl.classList.add('colab-df-spinner');\n",
              "      try {\n",
              "        const charts = await google.colab.kernel.invokeFunction(\n",
              "            'suggestCharts', [key], {});\n",
              "      } catch (error) {\n",
              "        console.error('Error during call to suggestCharts:', error);\n",
              "      }\n",
              "      quickchartButtonEl.classList.remove('colab-df-spinner');\n",
              "      quickchartButtonEl.classList.add('colab-df-quickchart-complete');\n",
              "    }\n",
              "    (() => {\n",
              "      let quickchartButtonEl =\n",
              "        document.querySelector('#df-ded3dc78-458b-487c-a232-7ff0b779fd5a button');\n",
              "      quickchartButtonEl.style.display =\n",
              "        google.colab.kernel.accessAllowed ? 'block' : 'none';\n",
              "    })();\n",
              "  </script>\n",
              "</div>\n",
              "\n",
              "    </div>\n",
              "  </div>\n"
            ],
            "application/vnd.google.colaboratory.intrinsic+json": {
              "type": "dataframe",
              "variable_name": "df",
              "summary": "{\n  \"name\": \"df\",\n  \"rows\": 5478,\n  \"fields\": [\n    {\n      \"column\": \"filename\",\n      \"properties\": {\n        \"dtype\": \"string\",\n        \"num_unique_values\": 5478,\n        \"samples\": [\n          \"frame3164.jpg\",\n          \"frame5148.jpg\",\n          \"frame8.jpg\"\n        ],\n        \"semantic_type\": \"\",\n        \"description\": \"\"\n      }\n    },\n    {\n      \"column\": \"tom\",\n      \"properties\": {\n        \"dtype\": \"number\",\n        \"std\": 0,\n        \"min\": 0,\n        \"max\": 1,\n        \"num_unique_values\": 2,\n        \"samples\": [\n          1,\n          0\n        ],\n        \"semantic_type\": \"\",\n        \"description\": \"\"\n      }\n    },\n    {\n      \"column\": \"jerry\",\n      \"properties\": {\n        \"dtype\": \"number\",\n        \"std\": 0,\n        \"min\": 0,\n        \"max\": 1,\n        \"num_unique_values\": 2,\n        \"samples\": [\n          1,\n          0\n        ],\n        \"semantic_type\": \"\",\n        \"description\": \"\"\n      }\n    },\n    {\n      \"column\": \"tom_jerry_0\",\n      \"properties\": {\n        \"dtype\": \"number\",\n        \"std\": 0,\n        \"min\": 0,\n        \"max\": 1,\n        \"num_unique_values\": 2,\n        \"samples\": [\n          0,\n          1\n        ],\n        \"semantic_type\": \"\",\n        \"description\": \"\"\n      }\n    },\n    {\n      \"column\": \"tom_jerry_1\",\n      \"properties\": {\n        \"dtype\": \"number\",\n        \"std\": 0,\n        \"min\": 0,\n        \"max\": 1,\n        \"num_unique_values\": 2,\n        \"samples\": [\n          1,\n          0\n        ],\n        \"semantic_type\": \"\",\n        \"description\": \"\"\n      }\n    }\n  ]\n}"
            }
          },
          "metadata": {},
          "execution_count": 12
        }
      ],
      "source": [
        "df.head(20)"
      ]
    },
    {
      "cell_type": "code",
      "execution_count": null,
      "metadata": {
        "colab": {
          "base_uri": "https://localhost:8080/",
          "height": 564
        },
        "id": "BK8UwNQ4lOgP",
        "outputId": "8d7c0d6b-032a-42d2-a2c4-bf42c6bdfd6d"
      },
      "outputs": [
        {
          "output_type": "display_data",
          "data": {
            "text/plain": [
              "<Figure size 800x600 with 1 Axes>"
            ],
            "image/png": "[encoded data removed]"
          },
          "metadata": {}
        }
      ],
      "source": [
        "# Calculate frequencies for each column\n",
        "tom_freq = df['tom'].sum()\n",
        "jerry_freq = df['jerry'].sum()\n",
        "tom_jerry_0_freq = df['tom_jerry_0'].sum()\n",
        "tom_jerry_1_freq = df['tom_jerry_1'].sum()\n",
        "\n",
        "# Create a bar graph\n",
        "categories = ['tom', 'jerry', 'tom_jerry_0', 'tom_jerry_1']\n",
        "frequencies = [tom_freq, jerry_freq, tom_jerry_0_freq, tom_jerry_1_freq]\n",
        "\n",
        "plt.figure(figsize=(8, 6))\n",
        "plt.bar(categories, frequencies)\n",
        "plt.title('Frequencies of Each Category')\n",
        "plt.xlabel('Columns')\n",
        "plt.ylabel('Frequency')\n",
        "plt.show()"
      ]
    },
    {
      "cell_type": "markdown",
      "metadata": {
        "id": "ndT16hv7cIvz"
      },
      "source": [
        "### Initial CNN Model Accuracy: 0.7362\n",
        "In this stage, we will initialize our CNN Model and extract the features from it."
      ]
    },
    {
      "cell_type": "code",
      "execution_count": null,
      "metadata": {
        "colab": {
          "base_uri": "https://localhost:8080/",
          "height": 917
        },
        "id": "eXe1dlo4QzGD",
        "outputId": "8af3f0d7-2708-49f1-98d2-f4378142c2dd"
      },
      "outputs": [
        {
          "output_type": "stream",
          "name": "stdout",
          "text": [
            "X_train shape: (4025, 28, 28, 1)\n",
            "y_train shape: (4025, 4)\n"
          ]
        },
        {
          "output_type": "display_data",
          "data": {
            "text/plain": [
              "<Figure size 640x480 with 1 Axes>"
            ],
            "image/png": "[encoded data removed]"
          },
          "metadata": {}
        },
        {
          "output_type": "stream",
          "name": "stderr",
          "text": [
            "/usr/local/lib/python3.10/dist-packages/keras/src/layers/convolutional/base_conv.py:107: UserWarning: Do not pass an `input_shape`/`input_dim` argument to a layer. When using Sequential models, prefer using an `Input(shape)` object as the first layer in the model instead.\n",
            "  super().__init__(activity_regularizer=activity_regularizer, **kwargs)\n"
          ]
        },
        {
          "output_type": "stream",
          "name": "stdout",
          "text": [
            "Epoch 1/10\n",
            "\u001b[1m126/126\u001b[0m \u001b[32m━━━━━━━━━━━━━━━━━━━━\u001b[0m\u001b[37m\u001b[0m \u001b[1m6s\u001b[0m 33ms/step - accuracy: 0.3807 - loss: 1.3039 - val_accuracy: 0.4765 - val_loss: 1.2321\n",
            "Epoch 2/10\n",
            "\u001b[1m126/126\u001b[0m \u001b[32m━━━━━━━━━━━━━━━━━━━━\u001b[0m\u001b[37m\u001b[0m \u001b[1m5s\u001b[0m 35ms/step - accuracy: 0.4722 - loss: 1.2045 - val_accuracy: 0.4754 - val_loss: 1.1817\n",
            "Epoch 3/10\n",
            "\u001b[1m126/126\u001b[0m \u001b[32m━━━━━━━━━━━━━━━━━━━━\u001b[0m\u001b[37m\u001b[0m \u001b[1m8s\u001b[0m 57ms/step - accuracy: 0.5144 - loss: 1.1118 - val_accuracy: 0.5786 - val_loss: 1.0255\n",
            "Epoch 4/10\n",
            "\u001b[1m126/126\u001b[0m \u001b[32m━━━━━━━━━━━━━━━━━━━━\u001b[0m\u001b[37m\u001b[0m \u001b[1m7s\u001b[0m 32ms/step - accuracy: 0.5899 - loss: 0.9847 - val_accuracy: 0.6325 - val_loss: 0.9302\n",
            "Epoch 5/10\n",
            "\u001b[1m126/126\u001b[0m \u001b[32m━━━━━━━━━━━━━━━━━━━━\u001b[0m\u001b[37m\u001b[0m \u001b[1m5s\u001b[0m 36ms/step - accuracy: 0.6778 - loss: 0.8394 - val_accuracy: 0.6736 - val_loss: 0.8428\n",
            "Epoch 6/10\n",
            "\u001b[1m126/126\u001b[0m \u001b[32m━━━━━━━━━━━━━━━━━━━━\u001b[0m\u001b[37m\u001b[0m \u001b[1m7s\u001b[0m 57ms/step - accuracy: 0.7211 - loss: 0.7347 - val_accuracy: 0.6823 - val_loss: 0.7832\n",
            "Epoch 7/10\n",
            "\u001b[1m126/126\u001b[0m \u001b[32m━━━━━━━━━━━━━━━━━━━━\u001b[0m\u001b[37m\u001b[0m \u001b[1m7s\u001b[0m 32ms/step - accuracy: 0.7777 - loss: 0.5937 - val_accuracy: 0.7241 - val_loss: 0.7418\n",
            "Epoch 8/10\n",
            "\u001b[1m126/126\u001b[0m \u001b[32m━━━━━━━━━━━━━━━━━━━━\u001b[0m\u001b[37m\u001b[0m \u001b[1m5s\u001b[0m 40ms/step - accuracy: 0.8172 - loss: 0.5145 - val_accuracy: 0.7264 - val_loss: 0.6973\n",
            "Epoch 9/10\n",
            "\u001b[1m126/126\u001b[0m \u001b[32m━━━━━━━━━━━━━━━━━━━━\u001b[0m\u001b[37m\u001b[0m \u001b[1m5s\u001b[0m 42ms/step - accuracy: 0.8367 - loss: 0.4336 - val_accuracy: 0.7496 - val_loss: 0.6608\n",
            "Epoch 10/10\n",
            "\u001b[1m126/126\u001b[0m \u001b[32m━━━━━━━━━━━━━━━━━━━━\u001b[0m\u001b[37m\u001b[0m \u001b[1m5s\u001b[0m 36ms/step - accuracy: 0.8667 - loss: 0.3747 - val_accuracy: 0.7658 - val_loss: 0.6469\n",
            "\u001b[1m54/54\u001b[0m \u001b[32m━━━━━━━━━━━━━━━━━━━━\u001b[0m\u001b[37m\u001b[0m \u001b[1m1s\u001b[0m 10ms/step - accuracy: 0.7771 - loss: 0.6480\n"
          ]
        },
        {
          "output_type": "stream",
          "name": "stderr",
          "text": [
            "WARNING:absl:You are saving your model as an HDF5 file via `model.save()` or `keras.saving.save_model(model)`. This file format is considered legacy. We recommend using instead the native Keras format, e.g. `model.save('my_model.keras')` or `keras.saving.save_model(model, 'my_model.keras')`. \n"
          ]
        },
        {
          "output_type": "stream",
          "name": "stdout",
          "text": [
            "Test accuracy: 0.7657970786094666\n"
          ]
        }
      ],
      "source": [
        "# Define the path to your image directory\n",
        "image_dir = '/content/drive/MyDrive/DATA Club - Cartoon Classification Project/images'\n",
        "\n",
        "# Define your categories (folder names)\n",
        "categories = ['tom', 'jerry', 'tom_jerry_0', 'tom_jerry_1']\n",
        "\n",
        "# Prepare lists to store images and labels\n",
        "images = []\n",
        "labels = []\n",
        "\n",
        "# Loop over each category folder\n",
        "for idx, category in enumerate(categories):\n",
        "    category_path = os.path.join(image_dir, category)\n",
        "\n",
        "    # Load images from each category\n",
        "    for filename in os.listdir(category_path):\n",
        "        filepath = os.path.join(category_path, filename)\n",
        "        img = load_img(filepath, target_size=(28, 28), color_mode='grayscale')\n",
        "        img_array = img_to_array(img) / 255.0  # Normalize the image\n",
        "        images.append(img_array)\n",
        "        labels.append(idx)  # Label is the index of the category\n",
        "\n",
        "# Convert lists to numpy arrays\n",
        "X = np.array(images)\n",
        "y = np.array(labels)\n",
        "\n",
        "# Split into training and test sets\n",
        "X_train, X_test, y_train, y_test = train_test_split(X, y, test_size=0.3, random_state=42)\n",
        "\n",
        "# Optionally convert labels to one-hot encoding\n",
        "y_train = to_categorical(y_train, num_classes=4)\n",
        "y_test = to_categorical(y_test, num_classes=4)\n",
        "\n",
        "# Check shapes and display a sample\n",
        "print(f\"X_train shape: {X_train.shape}\")\n",
        "print(f\"y_train shape: {y_train.shape}\")\n",
        "\n",
        "# Display a sample image\n",
        "plt.imshow(X_train[0].squeeze(), cmap='gray')\n",
        "plt.title(f\"Label: {y_train[0]}\")\n",
        "plt.axis('off')\n",
        "plt.show()\n",
        "\n",
        "# Define the CNN model\n",
        "model = Sequential()\n",
        "\n",
        "# Add convolutional layers\n",
        "model.add(Conv2D(32, kernel_size=(3, 3), activation='relu', input_shape=(28, 28, 1)))\n",
        "model.add(MaxPooling2D(pool_size=(2, 2)))\n",
        "\n",
        "# Add more convolutional layers\n",
        "model.add(Conv2D(64, kernel_size=(3, 3), activation='relu'))\n",
        "model.add(MaxPooling2D(pool_size=(2, 2)))\n",
        "\n",
        "# Flatten the output\n",
        "model.add(Flatten())\n",
        "\n",
        "# Add a fully connected layer\n",
        "model.add(Dense(128, activation='relu'))\n",
        "\n",
        "# Add output layer\n",
        "model.add(Dense(4, activation='softmax'))  # 4 categories\n",
        "\n",
        "# Compile the model\n",
        "model.compile(optimizer='adam', loss='categorical_crossentropy', metrics=['accuracy'])\n",
        "\n",
        "# Train the model\n",
        "model.fit(X_train, y_train, epochs=10, batch_size=32, validation_data=(X_test, y_test))\n",
        "\n",
        "# Evaluate the model on the test set\n",
        "test_loss, test_acc = model.evaluate(X_test, y_test)\n",
        "print(f\"Test accuracy: {test_acc}\")\n",
        "\n",
        "# Save the model if needed\n",
        "model.save('cartoon_classification_cnn.h5')"
      ]
    },
    {
      "cell_type": "markdown",
      "metadata": {
        "id": "pWa86YP6c9vD"
      },
      "source": [
        "Extract features from our CNN, then apply those features using a Random Forest models."
      ]
    },
    {
      "cell_type": "code",
      "execution_count": null,
      "metadata": {
        "id": "7EiitM0tnXkt",
        "colab": {
          "base_uri": "https://localhost:8080/"
        },
        "outputId": "0cfd1154-d57f-4542-e4cd-4aa083b9d9df"
      },
      "outputs": [
        {
          "output_type": "stream",
          "name": "stderr",
          "text": [
            "WARNING:absl:Compiled the loaded model, but the compiled metrics have yet to be built. `model.compile_metrics` will be empty until you train or evaluate the model.\n"
          ]
        },
        {
          "output_type": "stream",
          "name": "stdout",
          "text": [
            "\u001b[1m126/126\u001b[0m \u001b[32m━━━━━━━━━━━━━━━━━━━━\u001b[0m\u001b[37m\u001b[0m \u001b[1m3s\u001b[0m 20ms/step\n",
            "\u001b[1m54/54\u001b[0m \u001b[32m━━━━━━━━━━━━━━━━━━━━\u001b[0m\u001b[37m\u001b[0m \u001b[1m1s\u001b[0m 21ms/step\n"
          ]
        }
      ],
      "source": [
        "# Assuming you have already trained your CNN model and have X_train, y_train, X_test, y_test\n",
        "# Load the pre-trained CNN model\n",
        "model_cnn = load_model('cartoon_classification_cnn.h5')\n",
        "\n",
        "\n",
        "# Extract features from the CNN model's penultimate layer\n",
        "feature_extractor = Sequential()\n",
        "for layer in model_cnn.layers[:-1]:\n",
        "    feature_extractor.add(layer)\n",
        "\n",
        "X_train_features_cnn = feature_extractor.predict(X_train)\n",
        "X_test_features_cnn = feature_extractor.predict(X_test)"
      ]
    },
    {
      "cell_type": "markdown",
      "metadata": {
        "id": "Klcb-e5GfKvh"
      },
      "source": [
        "### FCNN Model Accuracy: 0.6191"
      ]
    },
    {
      "cell_type": "code",
      "execution_count": null,
      "metadata": {
        "colab": {
          "base_uri": "https://localhost:8080/",
          "height": 700
        },
        "id": "dRJDHpkc_ghR",
        "outputId": "9af9dab5-44e1-4876-c7c5-b32c4213d4a6"
      },
      "outputs": [
        {
          "output_type": "stream",
          "name": "stderr",
          "text": [
            "/usr/local/lib/python3.10/dist-packages/keras/src/layers/reshaping/flatten.py:37: UserWarning: Do not pass an `input_shape`/`input_dim` argument to a layer. When using Sequential models, prefer using an `Input(shape)` object as the first layer in the model instead.\n",
            "  super().__init__(**kwargs)\n"
          ]
        },
        {
          "output_type": "stream",
          "name": "stdout",
          "text": [
            "\u001b[1m54/54\u001b[0m \u001b[32m━━━━━━━━━━━━━━━━━━━━\u001b[0m\u001b[37m\u001b[0m \u001b[1m0s\u001b[0m 2ms/step\n",
            "FCNN Test accuracy with 5 epochs: 0.46956521739130436\n"
          ]
        },
        {
          "output_type": "stream",
          "name": "stderr",
          "text": [
            "/usr/local/lib/python3.10/dist-packages/keras/src/layers/reshaping/flatten.py:37: UserWarning: Do not pass an `input_shape`/`input_dim` argument to a layer. When using Sequential models, prefer using an `Input(shape)` object as the first layer in the model instead.\n",
            "  super().__init__(**kwargs)\n"
          ]
        },
        {
          "output_type": "stream",
          "name": "stdout",
          "text": [
            "\u001b[1m54/54\u001b[0m \u001b[32m━━━━━━━━━━━━━━━━━━━━\u001b[0m\u001b[37m\u001b[0m \u001b[1m0s\u001b[0m 3ms/step\n",
            "FCNN Test accuracy with 10 epochs: 0.5756521739130435\n"
          ]
        },
        {
          "output_type": "stream",
          "name": "stderr",
          "text": [
            "/usr/local/lib/python3.10/dist-packages/keras/src/layers/reshaping/flatten.py:37: UserWarning: Do not pass an `input_shape`/`input_dim` argument to a layer. When using Sequential models, prefer using an `Input(shape)` object as the first layer in the model instead.\n",
            "  super().__init__(**kwargs)\n"
          ]
        },
        {
          "output_type": "stream",
          "name": "stdout",
          "text": [
            "\u001b[1m54/54\u001b[0m \u001b[32m━━━━━━━━━━━━━━━━━━━━\u001b[0m\u001b[37m\u001b[0m \u001b[1m0s\u001b[0m 3ms/step\n",
            "FCNN Test accuracy with 20 epochs: 0.6191304347826087\n"
          ]
        },
        {
          "output_type": "display_data",
          "data": {
            "text/plain": [
              "<Figure size 640x480 with 1 Axes>"
            ],
            "image/png": "[encoded data removed]"
          },
          "metadata": {}
        }
      ],
      "source": [
        "# Define the function to create and train the FCNN model\n",
        "def create_and_train_fcnn(X_train, y_train, X_test, y_test, epochs):\n",
        "    # Define the FCNN architecture\n",
        "    model = Sequential([\n",
        "        Flatten(input_shape=(X_train.shape[1], X_train.shape[2])),\n",
        "        Dense(128, activation='relu'),\n",
        "        Dense(64, activation='relu'),\n",
        "        Dense(y_train.shape[1], activation='softmax')\n",
        "    ])\n",
        "\n",
        "    # Compile the model with Adam optimizer and categorical cross-entropy loss\n",
        "    model.compile(optimizer=Adam(), loss='categorical_crossentropy', metrics=['accuracy'])\n",
        "\n",
        "    # Train the model\n",
        "    history = model.fit(X_train, y_train, epochs=epochs, validation_data=(X_test, y_test), verbose=0)\n",
        "\n",
        "    # Return the trained model and the loss history\n",
        "    return model, history\n",
        "\n",
        "# Define the number of epochs for training and lists to store test accuracies\n",
        "epochs_list = [5, 10, 20]\n",
        "fcnn_test_accuracies = []\n",
        "\n",
        "# Train FCNN with different numbers of epochs and track accuracy\n",
        "for epochs in epochs_list:\n",
        "    fcnn_model, history = create_and_train_fcnn(X_train, y_train, X_test, y_test, epochs)\n",
        "\n",
        "    # Make predictions on the test set\n",
        "    y_pred = np.argmax(fcnn_model.predict(X_test), axis=1)\n",
        "    y_true = np.argmax(y_test, axis=1)\n",
        "\n",
        "    # Calculate accuracy\n",
        "    fcnn_test_acc = accuracy_score(y_true, y_pred)\n",
        "    fcnn_test_accuracies.append(fcnn_test_acc)\n",
        "    print(f\"FCNN Test accuracy with {epochs} epochs: {fcnn_test_acc}\")\n",
        "\n",
        "# Plot the test accuracy vs. number of epochs\n",
        "plt.plot(epochs_list, fcnn_test_accuracies, marker='o')\n",
        "plt.xlabel(\"Number of Epochs\")\n",
        "plt.ylabel(\"Test Accuracy\")\n",
        "plt.title(\"FCNN - Test Accuracy vs. Number of Epochs\")\n",
        "plt.show()\n"
      ]
    },
    {
      "cell_type": "markdown",
      "metadata": {
        "id": "kJgQu-T3nYVz"
      },
      "source": [
        "### Random Forests using CNN Accuracy > 0.78 with 150 trees\n",
        "\n",
        "\n",
        "\n"
      ]
    },
    {
      "cell_type": "code",
      "execution_count": null,
      "metadata": {
        "colab": {
          "base_uri": "https://localhost:8080/",
          "height": 487
        },
        "id": "H0z3n7fJtlM2",
        "outputId": "cedb2d04-dd34-4180-e62e-8b1829c1a2a1"
      },
      "outputs": [
        {
          "output_type": "display_data",
          "data": {
            "text/plain": [
              "<Figure size 1000x500 with 2 Axes>"
            ],
            "image/png": "[encoded data removed]"
          },
          "metadata": {}
        }
      ],
      "source": [
        "# Train and evaluate Random Forest models with different numbers of trees for both CNN and FCNN features\n",
        "\n",
        "num_trees_list = [10, 50, 100, 200]\n",
        "cnn_accuracy_scores = []\n",
        "cnn_loss_scores = []\n",
        "\n",
        "for num_trees in num_trees_list:\n",
        "  rf_model = RandomForestClassifier(n_estimators=num_trees, random_state=42)\n",
        "  rf_model.fit(X_train_features_cnn.reshape(X_train_features_cnn.shape[0], -1), np.argmax(y_train, axis=1))\n",
        "  y_pred_cnn = rf_model.predict(X_test_features_cnn.reshape(X_test_features_cnn.shape[0], -1))\n",
        "  cnn_accuracy = accuracy_score(np.argmax(y_test, axis=1), y_pred_cnn)\n",
        "  cnn_accuracy_scores.append(cnn_accuracy)\n",
        "  # Assuming you have a way to calculate loss for your RF model (e.g., using cross-entropy)\n",
        "  # Replace this with the actual loss calculation for your model\n",
        "  cnn_loss = 1 - cnn_accuracy\n",
        "  cnn_loss_scores.append(cnn_loss)\n",
        "\n",
        "\n",
        "# Plot accuracy and loss for CNN features\n",
        "plt.figure(figsize=(10, 5))\n",
        "plt.subplot(1, 2, 1)\n",
        "plt.plot(num_trees_list, cnn_accuracy_scores, marker='o')\n",
        "plt.xlabel('Number of Trees')\n",
        "plt.ylabel('Accuracy')\n",
        "plt.title('CNN Feature Accuracy vs. Number of Trees')\n",
        "\n",
        "plt.subplot(1, 2, 2)\n",
        "plt.plot(num_trees_list, cnn_loss_scores, marker='o')\n",
        "plt.xlabel('Number of Trees')\n",
        "plt.ylabel('Loss')\n",
        "plt.title('CNN Feature Loss vs. Number of Trees')\n",
        "plt.show()"
      ]
    },
    {
      "cell_type": "markdown",
      "metadata": {
        "id": "s-Lnl-zhhrDF"
      },
      "source": [
        "### Applying kNN and Random Forest on our CNN features Accuracy: 0.7808\n",
        "\n"
      ]
    },
    {
      "cell_type": "code",
      "execution_count": null,
      "metadata": {
        "colab": {
          "base_uri": "https://localhost:8080/"
        },
        "id": "Nm7eZPKimyMa",
        "outputId": "c0491367-45f5-47b8-d7da-45fdd4258195"
      },
      "outputs": [
        {
          "output_type": "stream",
          "name": "stdout",
          "text": [
            "KNN Accuracy: 0.7866666666666666\n"
          ]
        }
      ],
      "source": [
        "# Flatten the CNN features for KNN\n",
        "X_train_features_cnn_flat = X_train_features_cnn.reshape(X_train_features_cnn.shape[0], -1)\n",
        "X_test_features_cnn_flat = X_test_features_cnn.reshape(X_test_features_cnn.shape[0], -1)\n",
        "\n",
        "# Train KNN model\n",
        "knn_model = KNeighborsClassifier(n_neighbors=5)  # You can adjust the number of neighbors\n",
        "knn_model.fit(X_train_features_cnn_flat, np.argmax(y_train, axis=1))\n",
        "\n",
        "# Make predictions\n",
        "y_pred_knn = knn_model.predict(X_test_features_cnn_flat)\n",
        "\n",
        "# Calculate accuracy\n",
        "knn_accuracy = accuracy_score(np.argmax(y_test, axis=1), y_pred_knn)\n",
        "print(f\"KNN Accuracy: {knn_accuracy}\")\n",
        "\n",
        "\n",
        "# Train and evaluate Random Forest model (already done in the provided code)\n",
        "\n",
        "# You can further analyze and compare the performance of KNN and Random Forest."
      ]
    },
    {
      "cell_type": "markdown",
      "source": [
        "### CNN with RELU Accuracy 0.64218"
      ],
      "metadata": {
        "id": "Srr-MDeXcFKC"
      }
    },
    {
      "cell_type": "code",
      "execution_count": null,
      "metadata": {
        "colab": {
          "base_uri": "https://localhost:8080/"
        },
        "id": "qVJKO-n-0qoZ",
        "outputId": "25eb44d4-6355-4653-d5cf-3e842178ed42"
      },
      "outputs": [
        {
          "output_type": "stream",
          "name": "stdout",
          "text": [
            "Found 2754 images belonging to 2 classes.\n",
            "Found 688 images belonging to 2 classes.\n"
          ]
        },
        {
          "output_type": "stream",
          "name": "stderr",
          "text": [
            "/usr/local/lib/python3.10/dist-packages/keras/src/layers/convolutional/base_conv.py:107: UserWarning: Do not pass an `input_shape`/`input_dim` argument to a layer. When using Sequential models, prefer using an `Input(shape)` object as the first layer in the model instead.\n",
            "  super().__init__(activity_regularizer=activity_regularizer, **kwargs)\n"
          ]
        },
        {
          "output_type": "stream",
          "name": "stdout",
          "text": [
            "Epoch 1/10\n"
          ]
        },
        {
          "output_type": "stream",
          "name": "stderr",
          "text": [
            "/usr/local/lib/python3.10/dist-packages/keras/src/trainers/data_adapters/py_dataset_adapter.py:121: UserWarning: Your `PyDataset` class should call `super().__init__(**kwargs)` in its constructor. `**kwargs` can include `workers`, `use_multiprocessing`, `max_queue_size`. Do not pass these arguments to `fit()`, as they will be ignored.\n",
            "  self._warn_if_super_not_called()\n"
          ]
        },
        {
          "output_type": "stream",
          "name": "stdout",
          "text": [
            "\u001b[1m43/43\u001b[0m \u001b[32m━━━━━━━━━━━━━━━━━━━━\u001b[0m\u001b[37m\u001b[0m \u001b[1m43s\u001b[0m 850ms/step - accuracy: 0.6157 - loss: 1.0074 - val_accuracy: 0.6375 - val_loss: 0.6588\n",
            "Epoch 2/10\n",
            "\u001b[1m 1/43\u001b[0m \u001b[37m━━━━━━━━━━━━━━━━━━━━\u001b[0m \u001b[1m11s\u001b[0m 263ms/step - accuracy: 0.5781 - loss: 0.6798"
          ]
        },
        {
          "output_type": "stream",
          "name": "stderr",
          "text": [
            "/usr/lib/python3.10/contextlib.py:153: UserWarning: Your input ran out of data; interrupting training. Make sure that your dataset or generator can generate at least `steps_per_epoch * epochs` batches. You may need to use the `.repeat()` function when building your dataset.\n",
            "  self.gen.throw(typ, value, traceback)\n"
          ]
        },
        {
          "output_type": "stream",
          "name": "stdout",
          "text": [
            "\b\b\b\b\b\b\b\b\b\b\b\b\b\b\b\b\b\b\b\b\b\b\b\b\b\b\b\b\b\b\b\b\b\b\b\b\b\b\b\b\b\b\b\b\b\b\b\b\b\b\b\b\b\b\b\b\b\b\b\b\b\b\b\b\b\b\b\b\b\b\b\b\b\b\b\r\u001b[1m43/43\u001b[0m \u001b[32m━━━━━━━━━━━━━━━━━━━━\u001b[0m\u001b[37m\u001b[0m \u001b[1m1s\u001b[0m 10ms/step - accuracy: 0.5781 - loss: 0.6798 - val_accuracy: 0.6250 - val_loss: 0.6630\n",
            "Epoch 3/10\n",
            "\u001b[1m43/43\u001b[0m \u001b[32m━━━━━━━━━━━━━━━━━━━━\u001b[0m\u001b[37m\u001b[0m \u001b[1m39s\u001b[0m 827ms/step - accuracy: 0.6434 - loss: 0.6506 - val_accuracy: 0.6313 - val_loss: 0.6742\n",
            "Epoch 4/10\n",
            "\u001b[1m43/43\u001b[0m \u001b[32m━━━━━━━━━━━━━━━━━━━━\u001b[0m\u001b[37m\u001b[0m \u001b[1m3s\u001b[0m 63ms/step - accuracy: 0.6875 - loss: 0.6603 - val_accuracy: 0.7083 - val_loss: 0.6911\n",
            "Epoch 5/10\n",
            "\u001b[1m43/43\u001b[0m \u001b[32m━━━━━━━━━━━━━━━━━━━━\u001b[0m\u001b[37m\u001b[0m \u001b[1m78s\u001b[0m 801ms/step - accuracy: 0.6322 - loss: 0.6428 - val_accuracy: 0.4719 - val_loss: 0.7073\n",
            "Epoch 6/10\n",
            "\u001b[1m43/43\u001b[0m \u001b[32m━━━━━━━━━━━━━━━━━━━━\u001b[0m\u001b[37m\u001b[0m \u001b[1m1s\u001b[0m 11ms/step - accuracy: 0.5781 - loss: 0.7270 - val_accuracy: 0.4583 - val_loss: 0.7451\n",
            "Epoch 7/10\n",
            "\u001b[1m43/43\u001b[0m \u001b[32m━━━━━━━━━━━━━━━━━━━━\u001b[0m\u001b[37m\u001b[0m \u001b[1m41s\u001b[0m 821ms/step - accuracy: 0.6801 - loss: 0.6315 - val_accuracy: 0.4219 - val_loss: 0.7086\n",
            "Epoch 8/10\n",
            "\u001b[1m43/43\u001b[0m \u001b[32m━━━━━━━━━━━━━━━━━━━━\u001b[0m\u001b[37m\u001b[0m \u001b[1m1s\u001b[0m 6ms/step - accuracy: 0.7031 - loss: 0.5968 - val_accuracy: 0.6458 - val_loss: 0.6241\n",
            "Epoch 9/10\n",
            "\u001b[1m43/43\u001b[0m \u001b[32m━━━━━━━━━━━━━━━━━━━━\u001b[0m\u001b[37m\u001b[0m \u001b[1m41s\u001b[0m 808ms/step - accuracy: 0.6381 - loss: 0.6325 - val_accuracy: 0.6453 - val_loss: 0.6437\n",
            "Epoch 10/10\n",
            "\u001b[1m43/43\u001b[0m \u001b[32m━━━━━━━━━━━━━━━━━━━━\u001b[0m\u001b[37m\u001b[0m \u001b[1m1s\u001b[0m 7ms/step - accuracy: 0.6406 - loss: 0.6244 - val_accuracy: 0.5417 - val_loss: 0.6960\n",
            "\u001b[1m10/10\u001b[0m \u001b[32m━━━━━━━━━━━━━━━━━━━━\u001b[0m\u001b[37m\u001b[0m \u001b[1m6s\u001b[0m 636ms/step - accuracy: 0.6190 - loss: 0.6496\n"
          ]
        },
        {
          "output_type": "stream",
          "name": "stderr",
          "text": [
            "WARNING:absl:You are saving your model as an HDF5 file via `model.save()` or `keras.saving.save_model(model)`. This file format is considered legacy. We recommend using instead the native Keras format, e.g. `model.save('my_model.keras')` or `keras.saving.save_model(model, 'my_model.keras')`. \n"
          ]
        },
        {
          "output_type": "stream",
          "name": "stdout",
          "text": [
            "Validation accuracy: 0.6312500238418579\n"
          ]
        }
      ],
      "source": [
        "# Define the path to your image directory\n",
        "image_dir = '/content/drive/MyDrive/DATA Club - Cartoon Classification Project/images'\n",
        "\n",
        "# Define your categories (folder names)\n",
        "categories = ['tom', 'jerry']  # Binary classification: two classes\n",
        "\n",
        "# Define image size and batch size\n",
        "IMAGE_SIZE = (32, 32)\n",
        "BATCH_SIZE = 64\n",
        "\n",
        "# Create an instance of ImageDataGenerator for training and testing\n",
        "train_datagen = ImageDataGenerator(\n",
        "    rescale=1./255,\n",
        "    validation_split=0.2  # Reserve 20% of data for validation\n",
        ")\n",
        "\n",
        "# Create generators that read images from the directory\n",
        "train_generator = train_datagen.flow_from_directory(\n",
        "    directory=image_dir,\n",
        "    target_size=IMAGE_SIZE,\n",
        "    color_mode='grayscale',\n",
        "    classes=categories,\n",
        "    class_mode='binary',  # Binary classification mode\n",
        "    batch_size=BATCH_SIZE,\n",
        "    subset='training',  # Set as training data\n",
        "    shuffle=True,\n",
        "    seed=42\n",
        ")\n",
        "\n",
        "validation_generator = train_datagen.flow_from_directory(\n",
        "    directory=image_dir,\n",
        "    target_size=IMAGE_SIZE,\n",
        "    color_mode='grayscale',\n",
        "    classes=categories,\n",
        "    class_mode='binary',  # Binary classification mode\n",
        "    batch_size=BATCH_SIZE,\n",
        "    subset='validation',  # Set as validation data\n",
        "    shuffle=True,\n",
        "    seed=42\n",
        ")\n",
        "\n",
        "# Define the convolutional neural network model\n",
        "model = Sequential()\n",
        "\n",
        "# First convolutional layer\n",
        "model.add(Conv2D(64, (3, 3), activation='relu', input_shape=(IMAGE_SIZE[0], IMAGE_SIZE[1], 1)))\n",
        "model.add(MaxPooling2D((2, 2)))\n",
        "\n",
        "# Second convolutional layer\n",
        "model.add(Conv2D(128, (3, 3), activation='relu'))\n",
        "model.add(MaxPooling2D((2, 2)))\n",
        "\n",
        "# Third convolutional layer\n",
        "model.add(Conv2D(128, (3, 3), activation='relu'))\n",
        "model.add(MaxPooling2D((2, 2)))\n",
        "\n",
        "# Flatten and add dense layers\n",
        "model.add(Flatten())\n",
        "model.add(Dense(128, activation='relu'))\n",
        "model.add(Dense(1, activation='sigmoid'))  # Output layer for binary classification\n",
        "\n",
        "# Compile the model with appropriate loss function and optimizer\n",
        "model.compile(optimizer=optim.Adam(learning_rate=0.01), loss='binary_crossentropy', metrics=['accuracy'])\n",
        "\n",
        "# Train the model using the generators\n",
        "history = model.fit(\n",
        "    train_generator,\n",
        "    steps_per_epoch=train_generator.samples // BATCH_SIZE,\n",
        "    epochs=10,  # Adjust the number of epochs as needed\n",
        "    validation_data=validation_generator,\n",
        "    validation_steps=validation_generator.samples // BATCH_SIZE\n",
        ")\n",
        "\n",
        "# Evaluate the model on the validation set\n",
        "val_loss, val_acc = model.evaluate(\n",
        "    validation_generator,\n",
        "    steps=validation_generator.samples // BATCH_SIZE\n",
        ")\n",
        "print(f\"Validation accuracy: {val_acc}\")\n",
        "\n",
        "# Save the model if needed\n",
        "model.save('cartoon_classification_cnn.h5')"
      ]
    },
    {
      "cell_type": "markdown",
      "source": [
        "### CNN using 2D Maxpooling Accuracy: 0.4200"
      ],
      "metadata": {
        "id": "v9XYjPZdb9DN"
      }
    },
    {
      "cell_type": "code",
      "execution_count": null,
      "metadata": {
        "colab": {
          "base_uri": "https://localhost:8080/"
        },
        "id": "vPw0crOi_-t5",
        "outputId": "43cab28c-68b9-42a7-a4a4-f11fd5615cf9"
      },
      "outputs": [
        {
          "output_type": "stream",
          "name": "stdout",
          "text": [
            "Found 4601 images belonging to 4 classes.\n",
            "Found 1149 images belonging to 4 classes.\n"
          ]
        },
        {
          "output_type": "stream",
          "name": "stderr",
          "text": [
            "WARNING:absl:Compiled the loaded model, but the compiled metrics have yet to be built. `model.compile_metrics` will be empty until you train or evaluate the model.\n"
          ]
        },
        {
          "output_type": "stream",
          "name": "stdout",
          "text": [
            "Epoch 1/15\n",
            "\u001b[1m71/71\u001b[0m \u001b[32m━━━━━━━━━━━━━━━━━━━━\u001b[0m\u001b[37m\u001b[0m \u001b[1m60s\u001b[0m 770ms/step - accuracy: 0.3960 - loss: 1.3396 - val_accuracy: 0.3713 - val_loss: 1.3242\n",
            "Epoch 2/15\n",
            "\u001b[1m71/71\u001b[0m \u001b[32m━━━━━━━━━━━━━━━━━━━━\u001b[0m\u001b[37m\u001b[0m \u001b[1m1s\u001b[0m 8ms/step - accuracy: 0.5000 - loss: 1.2154 - val_accuracy: 0.3279 - val_loss: 1.3859\n",
            "Epoch 3/15\n",
            "\u001b[1m71/71\u001b[0m \u001b[32m━━━━━━━━━━━━━━━━━━━━\u001b[0m\u001b[37m\u001b[0m \u001b[1m57s\u001b[0m 754ms/step - accuracy: 0.4082 - loss: 1.2839 - val_accuracy: 0.3768 - val_loss: 1.3301\n",
            "Epoch 4/15\n",
            "\u001b[1m71/71\u001b[0m \u001b[32m━━━━━━━━━━━━━━━━━━━━\u001b[0m\u001b[37m\u001b[0m \u001b[1m1s\u001b[0m 8ms/step - accuracy: 0.4531 - loss: 1.2566 - val_accuracy: 0.3770 - val_loss: 1.2619\n",
            "Epoch 5/15\n",
            "\u001b[1m71/71\u001b[0m \u001b[32m━━━━━━━━━━━━━━━━━━━━\u001b[0m\u001b[37m\u001b[0m \u001b[1m57s\u001b[0m 754ms/step - accuracy: 0.4200 - loss: 1.2642 - val_accuracy: 0.3612 - val_loss: 1.3341\n",
            "Epoch 6/15\n",
            "\u001b[1m71/71\u001b[0m \u001b[32m━━━━━━━━━━━━━━━━━━━━\u001b[0m\u001b[37m\u001b[0m \u001b[1m1s\u001b[0m 8ms/step - accuracy: 0.2812 - loss: 1.3590 - val_accuracy: 0.3443 - val_loss: 1.3956\n",
            "Epoch 7/15\n",
            "\u001b[1m71/71\u001b[0m \u001b[32m━━━━━━━━━━━━━━━━━━━━\u001b[0m\u001b[37m\u001b[0m \u001b[1m81s\u001b[0m 745ms/step - accuracy: 0.4234 - loss: 1.2660 - val_accuracy: 0.3594 - val_loss: 1.3416\n",
            "Epoch 8/15\n",
            "\u001b[1m71/71\u001b[0m \u001b[32m━━━━━━━━━━━━━━━━━━━━\u001b[0m\u001b[37m\u001b[0m \u001b[1m1s\u001b[0m 8ms/step - accuracy: 0.4062 - loss: 1.1884 - val_accuracy: 0.2951 - val_loss: 1.3485\n",
            "Epoch 9/15\n",
            "\u001b[1m71/71\u001b[0m \u001b[32m━━━━━━━━━━━━━━━━━━━━\u001b[0m\u001b[37m\u001b[0m \u001b[1m60s\u001b[0m 782ms/step - accuracy: 0.4419 - loss: 1.2436 - val_accuracy: 0.3548 - val_loss: 1.3454\n",
            "Epoch 10/15\n",
            "\u001b[1m71/71\u001b[0m \u001b[32m━━━━━━━━━━━━━━━━━━━━\u001b[0m\u001b[37m\u001b[0m \u001b[1m9s\u001b[0m 132ms/step - accuracy: 0.2969 - loss: 1.3688 - val_accuracy: 0.3607 - val_loss: 1.3615\n",
            "Epoch 11/15\n",
            "\u001b[1m71/71\u001b[0m \u001b[32m━━━━━━━━━━━━━━━━━━━━\u001b[0m\u001b[37m\u001b[0m \u001b[1m57s\u001b[0m 751ms/step - accuracy: 0.4472 - loss: 1.2390 - val_accuracy: 0.3511 - val_loss: 1.3502\n",
            "Epoch 12/15\n",
            "\u001b[1m71/71\u001b[0m \u001b[32m━━━━━━━━━━━━━━━━━━━━\u001b[0m\u001b[37m\u001b[0m \u001b[1m1s\u001b[0m 8ms/step - accuracy: 0.5781 - loss: 1.1912 - val_accuracy: 0.3607 - val_loss: 1.3820\n",
            "Epoch 13/15\n",
            "\u001b[1m71/71\u001b[0m \u001b[32m━━━━━━━━━━━━━━━━━━━━\u001b[0m\u001b[37m\u001b[0m \u001b[1m58s\u001b[0m 763ms/step - accuracy: 0.4494 - loss: 1.2434 - val_accuracy: 0.3456 - val_loss: 1.3599\n",
            "Epoch 14/15\n",
            "\u001b[1m71/71\u001b[0m \u001b[32m━━━━━━━━━━━━━━━━━━━━\u001b[0m\u001b[37m\u001b[0m \u001b[1m1s\u001b[0m 8ms/step - accuracy: 0.5000 - loss: 1.1668 - val_accuracy: 0.3115 - val_loss: 1.3411\n",
            "Epoch 15/15\n",
            "\u001b[1m71/71\u001b[0m \u001b[32m━━━━━━━━━━━━━━━━━━━━\u001b[0m\u001b[37m\u001b[0m \u001b[1m81s\u001b[0m 748ms/step - accuracy: 0.4562 - loss: 1.2240 - val_accuracy: 0.3244 - val_loss: 1.3648\n",
            "\u001b[1m17/17\u001b[0m \u001b[32m━━━━━━━━━━━━━━━━━━━━\u001b[0m\u001b[37m\u001b[0m \u001b[1m12s\u001b[0m 666ms/step - accuracy: 0.3365 - loss: 1.3528\n"
          ]
        },
        {
          "output_type": "stream",
          "name": "stderr",
          "text": [
            "WARNING:absl:You are saving your model as an HDF5 file via `model.save()` or `keras.saving.save_model(model)`. This file format is considered legacy. We recommend using instead the native Keras format, e.g. `model.save('my_model.keras')` or `keras.saving.save_model(model, 'my_model.keras')`. \n"
          ]
        },
        {
          "output_type": "stream",
          "name": "stdout",
          "text": [
            "Validation accuracy: 0.32444852590560913\n"
          ]
        }
      ],
      "source": [
        "# Define the path to your image directory\n",
        "image_dir = '/content/drive/MyDrive/DATA Club - Cartoon Classification Project/images'\n",
        "\n",
        "# Define your categories (folder names)\n",
        "categories = ['tom', 'jerry', 'tom_jerry_0', 'tom_jerry_1']  # Now 4 classes\n",
        "\n",
        "# Define image size and batch size\n",
        "IMAGE_SIZE = (32, 32)\n",
        "BATCH_SIZE = 64\n",
        "\n",
        "# Create an instance of ImageDataGenerator for training and validation\n",
        "train_datagen = ImageDataGenerator(\n",
        "    rescale=1./255,\n",
        "    validation_split=0.2  # Reserve 20% of data for validation\n",
        ")\n",
        "\n",
        "# Create generators that read images from the directory\n",
        "train_generator = train_datagen.flow_from_directory(\n",
        "    directory=image_dir,\n",
        "    target_size=IMAGE_SIZE,\n",
        "    color_mode='grayscale',\n",
        "    classes=categories,\n",
        "    class_mode='categorical',  # Multiclass classification mode\n",
        "    batch_size=BATCH_SIZE,\n",
        "    subset='training',  # Set as training data\n",
        "    shuffle=True,\n",
        "    seed=42\n",
        ")\n",
        "\n",
        "validation_generator = train_datagen.flow_from_directory(\n",
        "    directory=image_dir,\n",
        "    target_size=IMAGE_SIZE,\n",
        "    color_mode='grayscale',\n",
        "    classes=categories,\n",
        "    class_mode='categorical',  # Multiclass classification mode\n",
        "    batch_size=BATCH_SIZE,\n",
        "    subset='validation',  # Set as validation data\n",
        "    shuffle=True,\n",
        "    seed=42\n",
        ")\n",
        "\n",
        "# Load the pre-trained binary classification model\n",
        "pretrained_model = load_model('cartoon_classification_cnn.h5')\n",
        "\n",
        "# Build a new model with the same architecture, but modify the output layer\n",
        "model = Sequential()\n",
        "\n",
        "# First convolutional layer\n",
        "model.add(Conv2D(64, (3, 3), activation='relu', input_shape=(IMAGE_SIZE[0], IMAGE_SIZE[1], 1)))\n",
        "model.add(MaxPooling2D((2, 2)))\n",
        "\n",
        "# Second convolutional layer\n",
        "model.add(Conv2D(128, (3, 3), activation='relu'))\n",
        "model.add(MaxPooling2D((2, 2)))\n",
        "\n",
        "# Third convolutional layer\n",
        "model.add(Conv2D(128, (3, 3), activation='relu'))\n",
        "model.add(MaxPooling2D((2, 2)))\n",
        "\n",
        "# Flatten and add dense layers\n",
        "model.add(Flatten())\n",
        "model.add(Dense(128, activation='relu'))\n",
        "\n",
        "# Output layer for 4 classes\n",
        "model.add(Dense(4, activation='softmax'))\n",
        "\n",
        "# Copy weights from the pre-trained model to the new model\n",
        "for i in range(len(model.layers)-2):  # Exclude the last two layers (Dense layers)\n",
        "    model.layers[i].set_weights(pretrained_model.layers[i].get_weights())\n",
        "    model.layers[i].trainable = False  # Freeze the convolutional layers\n",
        "\n",
        "# Compile the model with appropriate loss function and optimizer\n",
        "model.compile(optimizer=optim.Adam(learning_rate=0.001), loss='categorical_crossentropy', metrics=['accuracy'])\n",
        "\n",
        "# Train the model using the generators\n",
        "history = model.fit(\n",
        "    train_generator,\n",
        "    steps_per_epoch=train_generator.samples // BATCH_SIZE,\n",
        "    epochs=15,  # Adjust the number of epochs as needed\n",
        "    validation_data=validation_generator,\n",
        "    validation_steps=validation_generator.samples // BATCH_SIZE\n",
        ")\n",
        "\n",
        "# Evaluate the model on the validation set\n",
        "val_loss, val_acc = model.evaluate(\n",
        "    validation_generator,\n",
        "    steps=validation_generator.samples // BATCH_SIZE\n",
        ")\n",
        "print(f\"Validation accuracy: {val_acc}\")\n",
        "\n",
        "# Save the model if needed\n",
        "model.save('cartoon_classification_cnn_4_classes.h5')\n"
      ]
    },
    {
      "cell_type": "markdown",
      "source": [
        "### Random Forest without CNN Classification Accuracy: 0.8113"
      ],
      "metadata": {
        "id": "-WmRlyWvbvmm"
      }
    },
    {
      "cell_type": "code",
      "execution_count": null,
      "metadata": {
        "colab": {
          "base_uri": "https://localhost:8080/"
        },
        "id": "eEo4_yZmQa9b",
        "outputId": "e2d9ea1d-8c28-4360-c5f7-8face4327d3f"
      },
      "outputs": [
        {
          "output_type": "stream",
          "name": "stdout",
          "text": [
            "Random Forest Classification Accuracy: 81.13%\n"
          ]
        }
      ],
      "source": [
        "# Define the path to your image directory\n",
        "image_dir = '/content/drive/MyDrive/DATA Club - Cartoon Classification Project/images'\n",
        "\n",
        "# Define your categories (folder names)\n",
        "categories = [\"tom\", \"jerry\", \"tom_jerry_0\", \"tom_jerry_1\"]\n",
        "\n",
        "# Prepare lists to store images and labels\n",
        "images = []\n",
        "labels = []\n",
        "\n",
        "# Loop over each category folder\n",
        "for idx, category in enumerate(categories):\n",
        "    category_path = os.path.join(image_dir, category)\n",
        "\n",
        "    # Load images from each category\n",
        "    for filename in os.listdir(category_path):\n",
        "        filepath = os.path.join(category_path, filename)\n",
        "        img = load_img(\n",
        "            filepath, target_size=(28, 28), color_mode=\"grayscale\"\n",
        "        )  # Resize to 28x28\n",
        "        img_array = img_to_array(img) / 255.0  # Normalize the image\n",
        "        images.append(img_array)\n",
        "        labels.append(idx)  # Label is the index of the category\n",
        "\n",
        "# Convert the lists to numpy arrays\n",
        "images = np.array(images)\n",
        "labels = np.array(labels)\n",
        "\n",
        "# Flatten the images for Random Forest (as a 2D array where each image is a row of features)\n",
        "images = images.reshape(images.shape[0], -1)\n",
        "\n",
        "# Split data into training and test sets\n",
        "X_train, X_test, y_train, y_test = train_test_split(\n",
        "    images, labels, test_size=0.2, random_state=42\n",
        ")\n",
        "\n",
        "# Initialize Random Forest model\n",
        "rf_model = RandomForestClassifier(n_estimators=100, random_state=42)\n",
        "\n",
        "# Train the model on the training data\n",
        "rf_model.fit(X_train, y_train)\n",
        "\n",
        "# Make predictions on the test set\n",
        "y_pred = rf_model.predict(X_test)\n",
        "\n",
        "# Evaluate accuracy\n",
        "accuracy = accuracy_score(y_test, y_pred)\n",
        "print(f\"Random Forest Classification Accuracy: {accuracy * 100:.2f}%\")"
      ]
    },
    {
      "cell_type": "markdown",
      "metadata": {
        "id": "ISoPzcYuQjEg"
      },
      "source": [
        "### kNN Without CNN Accuracy: 0.76"
      ]
    },
    {
      "cell_type": "code",
      "execution_count": null,
      "metadata": {
        "colab": {
          "base_uri": "https://localhost:8080/"
        },
        "id": "5RFjrvrmQih_",
        "outputId": "a0e06581-1d2a-4c11-f3d4-3e39a70d486f"
      },
      "outputs": [
        {
          "output_type": "stream",
          "name": "stdout",
          "text": [
            "KNN Classification Accuracy: 76.26%\n"
          ]
        }
      ],
      "source": [
        "# Define the path to your image directory\n",
        "image_dir = '/content/drive/MyDrive/DATA Club - Cartoon Classification Project/images'\n",
        "\n",
        "# Define your categories (folder names)\n",
        "categories = [\"tom\", \"jerry\", \"tom_jerry_0\", \"tom_jerry_1\"]\n",
        "\n",
        "# Prepare lists to store images and labels\n",
        "images = []\n",
        "labels = []\n",
        "\n",
        "# Loop over each category folder\n",
        "for idx, category in enumerate(categories):\n",
        "    category_path = os.path.join(image_dir, category)\n",
        "\n",
        "    # Load images from each category\n",
        "    for filename in os.listdir(category_path):\n",
        "        filepath = os.path.join(category_path, filename)\n",
        "        img = load_img(\n",
        "            filepath, target_size=(28, 28), color_mode=\"grayscale\"\n",
        "        )  # Resize to 28x28\n",
        "        img_array = img_to_array(img) / 255.0  # Normalize the image\n",
        "        images.append(img_array)\n",
        "        labels.append(idx)  # Label is the index of the category\n",
        "\n",
        "# Convert the lists to numpy arrays\n",
        "images = np.array(images)\n",
        "labels = np.array(labels)\n",
        "\n",
        "# Flatten the images for KNN (as a 2D array where each image is a row of features)\n",
        "images = images.reshape(images.shape[0], -1)\n",
        "\n",
        "# Split data into training and test sets\n",
        "X_train, X_test, y_train, y_test = train_test_split(\n",
        "    images, labels, test_size=0.2, random_state=42\n",
        ")\n",
        "\n",
        "# Initialize KNN model with k=3 (can adjust k as needed)\n",
        "knn_model = KNeighborsClassifier(n_neighbors=3)\n",
        "\n",
        "# Train the model on the training data\n",
        "knn_model.fit(X_train, y_train)\n",
        "\n",
        "# Make predictions on the test set\n",
        "y_pred = knn_model.predict(X_test)\n",
        "\n",
        "# Evaluate accuracy\n",
        "accuracy = accuracy_score(y_test, y_pred)\n",
        "print(f\"KNN Classification Accuracy: {accuracy * 100:.2f}%\")"
      ]
    },
    {
      "cell_type": "code",
      "source": [
        "# showing CNN pictures\n",
        "\n",
        "import numpy as np\n",
        "import matplotlib.pyplot as plt\n",
        "from tensorflow.keras.models import Model\n",
        "from tensorflow.keras.applications import VGG16\n",
        "from tensorflow.keras.preprocessing import image\n",
        "\n",
        "\n",
        "base_model = VGG16(weights='imagenet', include_top=False)\n",
        "\n",
        "\n",
        "img_path = '/content/drive/MyDrive/DATA Club - Cartoon Classification Project/images'\n",
        "\n",
        "\n",
        "img = image.load_img(img_path, target_size=(224, 224))\n",
        "img_array = image.img_to_array(img)\n",
        "img_array = np.expand_dims(img_array, axis=0)\n",
        "img_array /= 255.0\n",
        "\n",
        "\n",
        "features = base_model.predict(img_array)\n",
        "\n",
        "\n",
        "def plot_feature_maps(feature_maps, n_cols=8):\n",
        "    n_filters = feature_maps.shape[-1]\n",
        "    n_rows = n_filters // n_cols + (n_filters % n_cols > 0)\n",
        "    plt.figure(figsize=(n_cols * 2, n_rows * 2))\n",
        "\n",
        "    for i in range(n_filters):\n",
        "        plt.subplot(n_rows, n_cols, i + 1)\n",
        "        plt.imshow(feature_maps[0, :, :, i], cmap='viridis')\n",
        "        plt.axis('off')\n",
        "    plt.tight_layout()\n",
        "    plt.show()\n",
        "\n",
        "\n",
        "plot_feature_maps(features)"
      ],
      "metadata": {
        "id": "DFkIotsJfD_s",
        "colab": {
          "base_uri": "https://localhost:8080/",
          "height": 349
        },
        "outputId": "be74664b-8963-4eb9-f504-2ce8dfe6d6a8"
      },
      "execution_count": null,
      "outputs": [
        {
          "output_type": "error",
          "ename": "IsADirectoryError",
          "evalue": "[Errno 21] Is a directory: '/content/drive/MyDrive/DATA Club - Cartoon Classification Project/images'",
          "traceback": [
            "\u001b[0;31m---------------------------------------------------------------------------\u001b[0m",
            "\u001b[0;31mIsADirectoryError\u001b[0m                         Traceback (most recent call last)",
            "\u001b[0;32m<ipython-input-26-86c83938f414>\u001b[0m in \u001b[0;36m<cell line: 16>\u001b[0;34m()\u001b[0m\n\u001b[1;32m     14\u001b[0m \u001b[0;34m\u001b[0m\u001b[0m\n\u001b[1;32m     15\u001b[0m \u001b[0;34m\u001b[0m\u001b[0m\n\u001b[0;32m---> 16\u001b[0;31m \u001b[0mimg\u001b[0m \u001b[0;34m=\u001b[0m \u001b[0mimage\u001b[0m\u001b[0;34m.\u001b[0m\u001b[0mload_img\u001b[0m\u001b[0;34m(\u001b[0m\u001b[0mimg_path\u001b[0m\u001b[0;34m,\u001b[0m \u001b[0mtarget_size\u001b[0m\u001b[0;34m=\u001b[0m\u001b[0;34m(\u001b[0m\u001b[0;36m224\u001b[0m\u001b[0;34m,\u001b[0m \u001b[0;36m224\u001b[0m\u001b[0;34m)\u001b[0m\u001b[0;34m)\u001b[0m\u001b[0;34m\u001b[0m\u001b[0;34m\u001b[0m\u001b[0m\n\u001b[0m\u001b[1;32m     17\u001b[0m \u001b[0mimg_array\u001b[0m \u001b[0;34m=\u001b[0m \u001b[0mimage\u001b[0m\u001b[0;34m.\u001b[0m\u001b[0mimg_to_array\u001b[0m\u001b[0;34m(\u001b[0m\u001b[0mimg\u001b[0m\u001b[0;34m)\u001b[0m\u001b[0;34m\u001b[0m\u001b[0;34m\u001b[0m\u001b[0m\n\u001b[1;32m     18\u001b[0m \u001b[0mimg_array\u001b[0m \u001b[0;34m=\u001b[0m \u001b[0mnp\u001b[0m\u001b[0;34m.\u001b[0m\u001b[0mexpand_dims\u001b[0m\u001b[0;34m(\u001b[0m\u001b[0mimg_array\u001b[0m\u001b[0;34m,\u001b[0m \u001b[0maxis\u001b[0m\u001b[0;34m=\u001b[0m\u001b[0;36m0\u001b[0m\u001b[0;34m)\u001b[0m\u001b[0;34m\u001b[0m\u001b[0;34m\u001b[0m\u001b[0m\n",
            "\u001b[0;32m/usr/local/lib/python3.10/dist-packages/keras/src/utils/image_utils.py\u001b[0m in \u001b[0;36mload_img\u001b[0;34m(path, color_mode, target_size, interpolation, keep_aspect_ratio)\u001b[0m\n\u001b[1;32m    233\u001b[0m         \u001b[0;32mif\u001b[0m \u001b[0misinstance\u001b[0m\u001b[0;34m(\u001b[0m\u001b[0mpath\u001b[0m\u001b[0;34m,\u001b[0m \u001b[0mpathlib\u001b[0m\u001b[0;34m.\u001b[0m\u001b[0mPath\u001b[0m\u001b[0;34m)\u001b[0m\u001b[0;34m:\u001b[0m\u001b[0;34m\u001b[0m\u001b[0;34m\u001b[0m\u001b[0m\n\u001b[1;32m    234\u001b[0m             \u001b[0mpath\u001b[0m \u001b[0;34m=\u001b[0m \u001b[0mstr\u001b[0m\u001b[0;34m(\u001b[0m\u001b[0mpath\u001b[0m\u001b[0;34m.\u001b[0m\u001b[0mresolve\u001b[0m\u001b[0;34m(\u001b[0m\u001b[0;34m)\u001b[0m\u001b[0;34m)\u001b[0m\u001b[0;34m\u001b[0m\u001b[0;34m\u001b[0m\u001b[0m\n\u001b[0;32m--> 235\u001b[0;31m         \u001b[0;32mwith\u001b[0m \u001b[0mopen\u001b[0m\u001b[0;34m(\u001b[0m\u001b[0mpath\u001b[0m\u001b[0;34m,\u001b[0m \u001b[0;34m\"rb\"\u001b[0m\u001b[0;34m)\u001b[0m \u001b[0;32mas\u001b[0m \u001b[0mf\u001b[0m\u001b[0;34m:\u001b[0m\u001b[0;34m\u001b[0m\u001b[0;34m\u001b[0m\u001b[0m\n\u001b[0m\u001b[1;32m    236\u001b[0m             \u001b[0mimg\u001b[0m \u001b[0;34m=\u001b[0m \u001b[0mpil_image\u001b[0m\u001b[0;34m.\u001b[0m\u001b[0mopen\u001b[0m\u001b[0;34m(\u001b[0m\u001b[0mio\u001b[0m\u001b[0;34m.\u001b[0m\u001b[0mBytesIO\u001b[0m\u001b[0;34m(\u001b[0m\u001b[0mf\u001b[0m\u001b[0;34m.\u001b[0m\u001b[0mread\u001b[0m\u001b[0;34m(\u001b[0m\u001b[0;34m)\u001b[0m\u001b[0;34m)\u001b[0m\u001b[0;34m)\u001b[0m\u001b[0;34m\u001b[0m\u001b[0;34m\u001b[0m\u001b[0m\n\u001b[1;32m    237\u001b[0m     \u001b[0;32melse\u001b[0m\u001b[0;34m:\u001b[0m\u001b[0;34m\u001b[0m\u001b[0;34m\u001b[0m\u001b[0m\n",
            "\u001b[0;31mIsADirectoryError\u001b[0m: [Errno 21] Is a directory: '/content/drive/MyDrive/DATA Club - Cartoon Classification Project/images'"
          ]
        }
      ]
    },
    {
      "cell_type": "markdown",
      "source": [
        "## Model Summary\n",
        "\n",
        "### Why Do Certain Models Perform Better?\n",
        "\n",
        "1.\tModel Architecture: Convolutional Neural Networks (CNNs) are particularly suited for image data as they can extract spatial features from images. In contrast, decision tree models like Random Forests are effective at handling high-dimensional data and are resistant to overfitting. Combining these two types of models allows us to leverage the strengths of each.\n",
        "\n",
        "2.\tFeature Extraction: CNN models can extract high-level features from raw images, often capturing essential elements such as edges and shapes. Random Forests can then classify based on these features. As a result, using CNN feature outputs as inputs to a Random Forest model often leads to better results.\n",
        "\n",
        "3.\tAdvantages of Ensemble Methods: Random Forests reduce overfitting and improve the stability and accuracy of predictions by combining multiple decision trees. This ensemble learning approach allows the model to handle complex data more effectively.\n",
        "\n",
        "### Reasons for Choosing a Specific Model\n",
        "\n",
        "When selecting a model, our experiments revealed several aspects that make the combination of CNN and Random Forests an ideal choice:\n",
        "\n",
        "1.\tAccuracy Improvement: Our experimental results show that while CNN alone achieves a reasonable accuracy, extracting CNN features and classifying with Random Forest significantly improves accuracy. For example, using Random Forest after extracting features from CNN increased accuracy to around 79.57%.\n",
        "\n",
        "2.\tInterpretability: Combining CNN and Random Forest provides not only higher classification accuracy but also a clearer understanding of the model’s decision-making process. Each tree in a Random Forest can be seen as a decision on a specific combination of features, making the analysis more accessible.\n",
        "\n",
        "3.\tFeature Examples: We extract features from the penultimate layer of a pre-trained CNN model. These features often highlight distinct shape and edge characteristics, showing many lines, circles, and edges that represent the high-level abstract features necessary for image classification.\n",
        "\n",
        "Examples of CNN Features\n",
        "\n",
        "In practice, after extracting features from a pre-trained CNN, we obtain a high-dimensional array where each element represents a specific feature value of the image. Typically, these high-level features demonstrate properties such as:\n",
        "•\tEdge detection\n",
        "•\tContour description\n",
        "•\tShape features\n",
        "\n",
        "Such intuitive features not only improve classification accuracy but also provide a deeper understanding of the model’s decision-making.\n",
        "\n",
        "In summary, combining CNN feature layers with Random Forests significantly improves classification accuracy, and the interpretability of high-level features makes the model’s decision-making more transparent. This multi-model approach fully utilizes the advantages of each model and has shown excellent performance across various tasks.\n",
        "\n",
        "### Graphical Representation\n",
        "Visualizing these features can help in understanding what the CNN has learned. For example, plotting feature activation patterns can reveal which areas of the images are most influential for classification, demonstrating how the CNN identifies critical components as it processes the data.\n",
        "\n",
        "### Conclusion\n",
        "Combining CNNs with Random Forests can lead to more robust and accurate models, as the feature extraction process alleviates the need for manual feature engineering and allows the classification to be informed by learned, complex representations of data."
      ],
      "metadata": {
        "id": "C3z5H9kSeLEg"
      }
    },
    {
      "cell_type": "markdown",
      "source": [
        "## Project Summary\n",
        "\n",
        "### Detailed Evaluation of Models in Cartoon Image Classification\n",
        "\n",
        "#### 1. Evaluation Metrics\n",
        "\n",
        "The models in our cartoon image classification project were evaluated using common metrics to ascertain their performance. The primary metrics included:\n",
        "\n",
        "- **Accuracy**: Measures the number of correct predictions made out of the total predictions.\n",
        "- **Loss**: Represents how well the model predicts the labels, where lower values indicate better performance.\n",
        "- **Validation Accuracy**: Evaluates the model’s performance on unseen validation data to check for overfitting.\n",
        "- **Confusion Matrix**: A tool to visualize the performance of the classification model by showing true vs. predicted classifications.\n",
        "\n",
        "#### 2. CNN Model Evaluation\n",
        "\n",
        "After training the CNN model, we assessed its performance on the validation dataset:\n",
        "\n",
        "```python\n",
        "val_loss, val_accuracy = model.evaluate(validation_generator, steps=validation_generator.samples // BATCH_SIZE)\n",
        "print(f\"Validation accuracy: {val_accuracy}\")\n",
        "```\n",
        "\n",
        "- **Epoch Results**: The validation accuracy after training for 15 epochs reached approximately 73.62%, with concurrent losses decreasing to indicate improved performance.\n",
        "  \n",
        "**Sample Results:**\n",
        "```plaintext\n",
        "Epoch 1/15\n",
        "- accuracy: 0.3717, val_accuracy: 0.4197\n",
        "Epoch 15/15\n",
        "- accuracy: 0.4978, val_accuracy: 0.4108\n",
        "Final Validation accuracy: 0.7362\n",
        "```\n",
        "\n",
        "#### 3. Model Refinement using Random Forest and k-NN\n",
        "\n",
        "After extracting features from the CNN model, we refined our approach by applying Random Forest and k-NN classifiers:\n",
        "\n",
        "- **Random Forest Model**: Accuracy increased to approximately 79.57%, demonstrating enhanced classification capability compared to the CNN alone.\n",
        "  \n",
        "**Feature Extraction and Random Forest Training:**\n",
        "```python\n",
        "features = cnn_model.predict(X_features)\n",
        "rf_model = RandomForestClassifier(n_estimators=100)\n",
        "rf_model.fit(features, y_train)\n",
        "```\n",
        "\n",
        "#### 4. Results Visualization\n",
        "\n",
        "We created visual representations to compare model performances:\n",
        "\n",
        "- **Accuracy vs. Number of Trees in Random Forest**:\n",
        "  - Hourglass shape demonstrating optimal tree count leading to peak accuracy.\n",
        "  \n",
        "**Plotting Example:**\n",
        "```python\n",
        "import matplotlib.pyplot as plt\n",
        "\n",
        "plt.figure(figsize=(10, 5))\n",
        "plt.plot(num_trees_list, cnn_accuracy_scores, marker='o')\n",
        "plt.xlabel('Number of Trees')\n",
        "plt.ylabel('Accuracy')\n",
        "plt.title('CNN Feature Accuracy vs. Number of Trees')\n",
        "plt.show()\n",
        "```\n",
        "\n",
        "- This graphical representation helps determine the best number of trees for the Random Forest classifier.\n",
        "\n",
        "#### 5. Model Evaluation Summary\n",
        "\n",
        "Overall, the evaluation of the models in the cartoon image classification project has led to the following conclusions:\n",
        "\n",
        "- The CNN model alone achieved reasonable accuracy but revealed potential for further improvements.\n",
        "- The feature extraction followed by application of Random Forest and k-NN classifiers significantly enhanced accuracy levels, proving the benefit of combining models.\n",
        "- Implementation of evaluation metrics and visual plots allowed for insightful analysis and refinement of the model selection process.\n",
        "\n",
        "This structured approach to model evaluation illustrates the effectiveness of integrating both deep learning and traditional machine learning methods to achieve better classification results."
      ],
      "metadata": {
        "id": "msv8SzEM6h67"
      }
    }
  ],
  "metadata": {
    "colab": {
      "provenance": []
    },
    "kernelspec": {
      "display_name": "Python 3",
      "name": "python3"
    },
    "language_info": {
      "name": "python"
    }
  },
  "nbformat": 4,
  "nbformat_minor": 0
}